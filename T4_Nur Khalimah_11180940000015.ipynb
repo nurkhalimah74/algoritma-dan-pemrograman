{
 "cells": [
  {
   "cell_type": "markdown",
   "metadata": {},
   "source": [
    "### Nama : Nur Khalimah\n",
    "### NIM__: 11180940000015"
   ]
  },
  {
   "cell_type": "markdown",
   "metadata": {},
   "source": [
    "### Tugas 3"
   ]
  },
  {
   "cell_type": "markdown",
   "metadata": {},
   "source": [
    "#### 6-1. Person"
   ]
  },
  {
   "cell_type": "code",
   "execution_count": 2,
   "metadata": {},
   "outputs": [
    {
     "name": "stdout",
     "output_type": "stream",
     "text": [
      "Sasilah\n",
      "Wulandari\n",
      "10 years old\n",
      "Tangerang\n"
     ]
    }
   ],
   "source": [
    "a_person_I_know = {'first_name': 'Sasilah',\n",
    "                   'last_name': 'Wulandari',\n",
    "                   'age': '10 years old',\n",
    "                   'city': 'Tangerang'}\n",
    "\n",
    "print(a_person_I_know['first_name'])\n",
    "print(a_person_I_know['last_name'])\n",
    "print(a_person_I_know['age'])\n",
    "print(a_person_I_know['city'])"
   ]
  },
  {
   "cell_type": "markdown",
   "metadata": {},
   "source": [
    "#### 6-2. Favorite Numbers"
   ]
  },
  {
   "cell_type": "code",
   "execution_count": 3,
   "metadata": {},
   "outputs": [
    {
     "name": "stdout",
     "output_type": "stream",
     "text": [
      "Khal : 1\n",
      "Sila : 6\n",
      "Ade  : 8\n",
      "Afiq : 5\n",
      "Alya : 9\n"
     ]
    }
   ],
   "source": [
    "poll = {'Khal ': '1',\n",
    "        'Sila ': '6',\n",
    "        'Ade  ': '8',\n",
    "        'Afiq ': '5',\n",
    "        'Alya ': '9'}\n",
    "\n",
    "for a,b in poll.items():\n",
    "    print(a + ': ' + b)"
   ]
  },
  {
   "cell_type": "markdown",
   "metadata": {},
   "source": [
    "#### 6-3. Glossary"
   ]
  },
  {
   "cell_type": "code",
   "execution_count": null,
   "metadata": {},
   "outputs": [],
   "source": [
    "glossary = {'range()': 'membuat list bilangan berurutan',\n",
    "           'pengulangan for': 'print list satu persatu',\n",
    "           'append()': 'menambah elemen list',\n",
    "           'del': 'menghapus elemen list',\n",
    "           'upper()': 'membuat huruf capslock'}"
   ]
  },
  {
   "cell_type": "markdown",
   "metadata": {},
   "source": [
    "#### 6-7 People"
   ]
  },
  {
   "cell_type": "code",
   "execution_count": 4,
   "metadata": {},
   "outputs": [
    {
     "name": "stdout",
     "output_type": "stream",
     "text": [
      "First Name: Sasilah\n",
      "Last Name : Wulandari\n",
      "Age       : 10 years old\n",
      "City      : Tangerang\n",
      "\n",
      "First Name: Nur\n",
      "Last Name : Khalimah\n",
      "Age       : 20 years old\n",
      "City      : Tangerang\n",
      "\n",
      "First Name: Siti\n",
      "Last Name : Umi Nurbaety\n",
      "Age       : 19 years old\n",
      "City      : Bandung\n",
      "\n"
     ]
    }
   ],
   "source": [
    "people = {\n",
    "    'First': {\n",
    "        'first_name': 'Sasilah',\n",
    "        'last_name': 'Wulandari',\n",
    "        'age': '10 years old',\n",
    "        'city': 'Tangerang'\n",
    "    },\n",
    "    'Second': {\n",
    "        'first_name': 'Nur',\n",
    "        'last_name': 'Khalimah',\n",
    "        'age': '20 years old',\n",
    "        'city': 'Tangerang'\n",
    "    },\n",
    "     'Third': {\n",
    "        'first_name': 'Siti',\n",
    "        'last_name': 'Umi Nurbaety',\n",
    "        'age': '19 years old',\n",
    "        'city': 'Bandung'\n",
    "    }    \n",
    "}\n",
    "for number, info in people.items():\n",
    "    print('First Name: ' + str(info['first_name']))\n",
    "    print('Last Name : ' + str(info['last_name']))\n",
    "    print('Age       : ' + str(info['age']))\n",
    "    print('City      : ' + str(info['city']))\n",
    "    print('')"
   ]
  },
  {
   "cell_type": "markdown",
   "metadata": {},
   "source": [
    "#### 6-11. Cities"
   ]
  },
  {
   "cell_type": "code",
   "execution_count": 5,
   "metadata": {},
   "outputs": [
    {
     "name": "stdout",
     "output_type": "stream",
     "text": [
      "Tegal:\n",
      "   Country   : Indonesia\n",
      "   Population: 239.599 people\n",
      "   Fact      : There is PAI Beach\n",
      " \n",
      "Paris:\n",
      "   Country   : Prancis\n",
      "   Population: 2.148 million people\n",
      "   Fact      : There is Eiffel Tower\n",
      " \n",
      "Mekkah:\n",
      "   Country   : Arab Saudi\n",
      "   Population: 1.535 million people\n",
      "   Fact      : There is Ka'bah\n",
      " \n"
     ]
    }
   ],
   "source": [
    "Cities = {\n",
    "    'Tegal': {\n",
    "        'country': 'Indonesia',\n",
    "        'population': '239.599 people',\n",
    "        'fact': 'There is PAI Beach'\n",
    "    },\n",
    "    'Paris': {\n",
    "        'country': 'Prancis',\n",
    "        'population': '2.148 million people',\n",
    "        'fact': 'There is Eiffel Tower'\n",
    "    },\n",
    "    'Mekkah': {\n",
    "        'country': 'Arab Saudi',\n",
    "        'population': '1.535 million people',\n",
    "        'fact': \"There is Ka'bah\"\n",
    "    }   \n",
    "}\n",
    "for city, info in Cities.items():\n",
    "    print(str(city) + ':')\n",
    "    print('   Country   : ' + str(info['country']))\n",
    "    print('   Population: ' + str(info['population']))\n",
    "    print('   Fact      : ' + str(info['fact']))\n",
    "    print(' ')"
   ]
  }
 ],
 "metadata": {
  "kernelspec": {
   "display_name": "Python 3",
   "language": "python",
   "name": "python3"
  },
  "language_info": {
   "codemirror_mode": {
    "name": "ipython",
    "version": 3
   },
   "file_extension": ".py",
   "mimetype": "text/x-python",
   "name": "python",
   "nbconvert_exporter": "python",
   "pygments_lexer": "ipython3",
   "version": "3.7.3"
  }
 },
 "nbformat": 4,
 "nbformat_minor": 2
}
