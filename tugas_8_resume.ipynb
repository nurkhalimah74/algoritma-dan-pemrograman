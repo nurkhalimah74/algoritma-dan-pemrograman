{
 "cells": [
  {
   "cell_type": "markdown",
   "metadata": {},
   "source": [
    "<font color=fuchsia> <B>Nama : Nur Khalimah</font> <br>\n",
    "<font color=fuchsia> <B>NIM__: 11180940000015</font> <br>"
   ]
  },
  {
   "cell_type": "markdown",
   "metadata": {},
   "source": [
    "## PACKAGE NUMPY\n",
    "Numpy biasa digunakan ketika kita berhadapan dengan permasalahan yang berhubungan dengan **vektor / matriks**. Di Numpy kita juga akan banyak menjumpai fungsi / methods yang berkaitan dengan operasi-operasi vektor dan matriks."
   ]
  },
  {
   "cell_type": "markdown",
   "metadata": {},
   "source": [
    "### 1. Membuat Numpy Array (vidio ke-1)"
   ]
  },
  {
   "cell_type": "code",
   "execution_count": 1,
   "metadata": {},
   "outputs": [
    {
     "name": "stdout",
     "output_type": "stream",
     "text": [
      "[ 1  2  3  4  5  6  7  8  9 10] \n",
      "\n",
      "[1.5 2.6 3.4 4.9 5. ] \n",
      "\n",
      "[1 3 5 7 9] \n",
      "\n",
      "[ 1.  4.  7. 10.] \n",
      "\n",
      "[[ 1 10  2]\n",
      " [ 4  5  7]] \n",
      "\n",
      "[[0. 0.]\n",
      " [0. 0.]] \n",
      "\n",
      "[[1. 1. 1.]\n",
      " [1. 1. 1.]\n",
      " [1. 1. 1.]] \n",
      "\n",
      "[[1. 0. 0. 0.]\n",
      " [0. 1. 0. 0.]\n",
      " [0. 0. 1. 0.]\n",
      " [0. 0. 0. 1.]] \n",
      "\n",
      "[[1. 0. 0. 0.]\n",
      " [0. 1. 0. 0.]\n",
      " [0. 0. 1. 0.]\n",
      " [0. 0. 0. 1.]]\n"
     ]
    }
   ],
   "source": [
    "import numpy as np\n",
    "\n",
    "a1 = np.array([1,2,3,4,5,6,7,8,9,10])       #1\n",
    "a2 = np.array([1.5, 2.6, 3.4, 4.9, 5])      #2\n",
    "b = np.arange(1,10,2)                       #3\n",
    "c = np.linspace(1,10,4)                     #4\n",
    "d = np.array([ (1,10,2),(4,5,7) ])          #5\n",
    "e = np.zeros((2,2))                         #6\n",
    "f = np.ones((3,3))                          #7\n",
    "g1 = np.identity(4)                         #8\n",
    "g2 = np.eye(4)                              #9\n",
    "\n",
    "print(a1,'\\n')\n",
    "print(a2,'\\n')\n",
    "print(b,'\\n')\n",
    "print(c,'\\n')\n",
    "print(d,'\\n')\n",
    "print(e,'\\n')\n",
    "print(f,'\\n')\n",
    "print(g1,'\\n')\n",
    "print(g2)"
   ]
  },
  {
   "cell_type": "markdown",
   "metadata": {},
   "source": [
    "<font color=fuchsia> <B>PENJELASAN : </font> <br>\n",
    "__#1__ untuk membuat vektor baris, <br>\n",
    "__#2__ untuk membuat vektor baris dengan elemen menggunakan koma, <br>\n",
    "__#3__ untuk membuat vektor dengan range 2, <br>\n",
    "__#4__ untuk membuat vektor dengan linspace 4 (vektor terdisi dari elemen 1-10, dijadikan 4 elemen saja), <br>\n",
    "__#5__ untuk membuat matriks 2 baris 3 kolom, <br>\n",
    "__#6__ untuk membuat matriks dengan semua elemennya 0,<br>\n",
    "__#7__ untuk membuat matriks dengan semua elemennya 1,  \n",
    "__#8__ & __#9__ untuk membuat matriks 4x4 identitas."
   ]
  },
  {
   "cell_type": "markdown",
   "metadata": {},
   "source": [
    "### 2. Operasi Aritmatika (vidio ke-2)"
   ]
  },
  {
   "cell_type": "code",
   "execution_count": 2,
   "metadata": {},
   "outputs": [
    {
     "name": "stdout",
     "output_type": "stream",
     "text": [
      "[ 7 -5 12 12 15] \n",
      "\n",
      "[ 5 -9  6  4  5] \n",
      "\n",
      "[  6 -14  27  32  50] \n",
      "\n",
      "[ 6.  -3.5  3.   2.   2. ] \n",
      "\n",
      "[ 36  49  81  64 100] \n",
      "\n",
      "[  1   8  27  64 125] \n",
      "\n",
      "[[ 7  9 12 12 15]\n",
      " [19  9 40 12 60]] \n",
      "\n",
      "[[  6  14  27  32  50]\n",
      " [ 78  14 279  32 500]]\n"
     ]
    }
   ],
   "source": [
    "import numpy as np\n",
    "\n",
    "a = np.array([6,-7,9,8,10])\n",
    "b = np.array([1,2,3,4,5])                         \n",
    "c = np.array( ([6,7,9,8,10],[13,2,31,4,50]) )      \n",
    "d = np.array( ([1,2,3,4,5],[6,7,9,8,10]) )         \n",
    "\n",
    "hasil_1 = a + b          #1\n",
    "hasil_2 = a - b          #2\n",
    "hasil_3 = a * b          #3\n",
    "hasil_4 = a / b          #4\n",
    "hasil_5 = a **2          #5\n",
    "hasil_6 = b **3          #6\n",
    "hasil_7 = c + d          #7\n",
    "hasil_8 = c * d          #8\n",
    "\n",
    "print (hasil_1,'\\n')\n",
    "print (hasil_2,'\\n')\n",
    "print (hasil_3,'\\n')\n",
    "print (hasil_4,'\\n')\n",
    "print (hasil_5,'\\n')\n",
    "print (hasil_6,'\\n')\n",
    "print (hasil_7,'\\n')\n",
    "print (hasil_8)"
   ]
  },
  {
   "cell_type": "markdown",
   "metadata": {},
   "source": [
    "<font color=fuchsia> <B>PENJELASAN : </font> <br>\n",
    "Perlu diingat bahwa operasi pada numpy array, akan dihitung per-elemen pada masing-masing element vektornya __(Element Wise Operation)__.   \n",
    "__#1__ untuk menghitung operasi penjumlahan : vektor a + vektor b, <br>\n",
    "__#2__ untuk menghitung operasi pengurangan : vektor a - vektor b, <br>\n",
    "__#3__ untuk menghitung operasi perkalian : vektor a * vektor b, <br>\n",
    "__#4__ untuk menghitung operasi pembagian : vektor a / vektor b, <br>\n",
    "__#5__ untuk menghitung operasi kuadrat vektor a, <br>\n",
    "__#6__ untuk menghitung operasi kuadrat vektor b,<br>\n",
    "__#7__ untuk menghitung operasi penjumlahan : matriks c + matriks d,  <br>\n",
    "__#8__ untuk menghitung operasi perkalian : matriks c * matriks d."
   ]
  },
  {
   "cell_type": "markdown",
   "metadata": {},
   "source": [
    "### 3. Indexing, Slicing, Iterasi (vidio ke-3)"
   ]
  },
  {
   "cell_type": "code",
   "execution_count": 3,
   "metadata": {},
   "outputs": [
    {
     "name": "stdout",
     "output_type": "stream",
     "text": [
      "[ 0  1  4  9 16 25 36 49 64 81] \n",
      "\n",
      "element ke-1 dari a adalah  0\n",
      "element ke-7 dari a adalah  36\n",
      "element akhir dari a adalah  81 \n",
      "\n",
      "element ke 2-6 adalah  [ 1  4  9 16 25]\n",
      "element ke-4 sampai akhir adalah  [ 9 16 25 36 49 64 81]\n",
      "element pertama sampai 5 adalah  [ 0  1  4  9 16] \n",
      "\n",
      "value =  0\n",
      "value =  1\n",
      "value =  4\n",
      "value =  9\n",
      "value =  16\n",
      "value =  25\n",
      "value =  36\n",
      "value =  49\n",
      "value =  64\n",
      "value =  81\n"
     ]
    }
   ],
   "source": [
    "import numpy as np\n",
    "\n",
    "a = np.arange(10)**2\n",
    "\n",
    "print(a,'\\n')\n",
    "\n",
    "print('element ke-1 dari a adalah ', a[0])           #1\n",
    "print('element ke-7 dari a adalah ', a[6])           #2\n",
    "print('element akhir dari a adalah ', a[-1],'\\n')    #3\n",
    "\n",
    "print('element ke 2-6 adalah ', a[1:6])                  #4\n",
    "print('element ke-4 sampai akhir adalah ', a[3:])        #5\n",
    "print('element pertama sampai 5 adalah ', a[:5],'\\n')    #6\n",
    "\n",
    "for i in a:                      #7\n",
    "    print('value = ', i)         #8"
   ]
  },
  {
   "cell_type": "markdown",
   "metadata": {},
   "source": [
    "<font color=fuchsia> <B>PENJELASAN : </font> <br>\n",
    "Indeks dari vektor di mulai dari 0 dan dapat juga bernilai negatif.\n",
    "* Indexing : mengambil nilai element di vektor\n",
    "- Slicing : mengambil sebagian nilai element di vektor\n",
    "* Iterasi : perulangan berurut untuk mengambil nilai element di vektor <br>      \n",
    "    \n",
    "__#1__ indexing : nilai element ke-1 di vektor a, <br>\n",
    "__#2__ indexing : nilai element ke-7 di vektor a, <br>\n",
    "__#3__ indexing : nilai element akhir di vektor a, <br>\n",
    "__#4__ slicing : nilai element ke 2-6 di vektor a, formulanya [a:b-1] <br>\n",
    "__#5__ slicing : nilai element ke 4 sampai akhir di vektor a, <br>\n",
    "__#6__ slicing : nilai element pertama sampai ke-5 di vektor a,<br>\n",
    "__#7__ & __#8__ untuk melakukan iterasi."
   ]
  },
  {
   "cell_type": "markdown",
   "metadata": {},
   "source": [
    "### 4. Perkalian Matrix (vidio ke-4)"
   ]
  },
  {
   "cell_type": "code",
   "execution_count": 4,
   "metadata": {},
   "outputs": [
    {
     "name": "stdout",
     "output_type": "stream",
     "text": [
      "matrix a:\n",
      "[[1 2 5]\n",
      " [3 4 6]]\n",
      "matrix b:\n",
      "[[1.]\n",
      " [1.]\n",
      " [1.]] \n",
      "\n",
      "a * b :\n",
      "[[ 8.]\n",
      " [13.]]\n",
      "a * b :\n",
      "[[ 8.]\n",
      " [13.]]\n"
     ]
    }
   ],
   "source": [
    "import numpy as np\n",
    "\n",
    "a = np.array(( [1,2,5],\n",
    "               [3,4,6] ))\n",
    "b = np.ones([3,1])\n",
    "\n",
    "hasil_1 = np.dot(a,b)     #1\n",
    "hasil_2 = a.dot(b)        #2\n",
    "\n",
    "print('matrix a:')\n",
    "print(a)\n",
    "print('matrix b:')\n",
    "print(b,'\\n')\n",
    "print('a * b :')\n",
    "print(hasil_1)\n",
    "print('a * b :')\n",
    "print(hasil_2)"
   ]
  },
  {
   "cell_type": "markdown",
   "metadata": {},
   "source": [
    "<font color=fuchsia> <B>PENJELASAN : </font> <br>\n",
    "Operasi pada numpy array, akan dihitung per-elemen pada masing-masing element vektornya __(Element Wise Operation)__. Tetapi, perkalian matriks pada numpy bisa dilakukan dengan menggunakan __'dot'__.<br>\n",
    "    <br>\n",
    "__#1__ & __#2__ untuk menghitung perkalian matrix : matrix a * matrix b.    "
   ]
  },
  {
   "cell_type": "markdown",
   "metadata": {},
   "source": [
    "### 5. Manipulasi Matrix / Shape Manipulation (vidio ke-5)"
   ]
  },
  {
   "cell_type": "code",
   "execution_count": 5,
   "metadata": {},
   "outputs": [
    {
     "name": "stdout",
     "output_type": "stream",
     "text": [
      "matrix a dengan ukuran: (2, 3)\n",
      "[[1 2 3]\n",
      " [4 5 6]] \n",
      "\n",
      "transpose matrix dari a:\n",
      "[[1 4]\n",
      " [2 5]\n",
      " [3 6]]\n",
      "[[1 4]\n",
      " [2 5]\n",
      " [3 6]]\n",
      "[[1 4]\n",
      " [2 5]\n",
      " [3 6]]\n",
      "matrix a dengan ukuran: (2, 3) \n",
      "\n",
      "flatten matrix a:\n",
      "[1 2 3 4 5 6]\n",
      "[1 2 3 4 5 6]\n",
      "matrix a dengan ukuran: (2, 3) \n",
      "\n",
      "reshape matrix a:\n",
      "[[1 2]\n",
      " [3 4]\n",
      " [5 6]]\n",
      "matrix a dengan ukuran: (2, 3) \n",
      "\n",
      "resize matrix a:\n",
      "[[1 2]\n",
      " [3 4]\n",
      " [5 6]]\n",
      "matrix a dengan ukuran: (3, 2)\n"
     ]
    }
   ],
   "source": [
    "import numpy as np\n",
    "\n",
    "a = np.array((\n",
    "              [1,2,3],\n",
    "              [4,5,6]\n",
    "                     ))\n",
    "print('matrix a dengan ukuran:', a.shape)   #1\n",
    "print(a,'\\n')\n",
    "\n",
    "print('transpose matrix dari a:')                  \n",
    "print(a.transpose())                               #2\n",
    "print(np.transpose(a))                             #3\n",
    "print(a.T)                                         #4\n",
    "print('matrix a dengan ukuran:', a.shape, '\\n')    \n",
    "\n",
    "print('flatten matrix a:')                              \n",
    "print(a.ravel())                                        #5\n",
    "print(np.ravel(a))                                      #6\n",
    "print('matrix a dengan ukuran:', a.shape, '\\n')        \n",
    "\n",
    "print('reshape matrix a:')                           \n",
    "print(a.reshape(3,2))                              #7\n",
    "print('matrix a dengan ukuran:', a.shape, '\\n')    \n",
    "\n",
    "print('resize matrix a:')                    \n",
    "a.resize(3,2)                              #8\n",
    "print(a)                                     \n",
    "print('matrix a dengan ukuran:', a.shape)    "
   ]
  },
  {
   "cell_type": "markdown",
   "metadata": {},
   "source": [
    "<font color=fuchsia> <B>PENJELASAN : </font> <br>\n",
    "Pada numpy,\n",
    "- Transpose Matrix : merubah baris menjadi kolom dan kolom menjadi baris pada 'matrix a', tanpa mengubah 'matrix a' nya\n",
    "- Flaten array : membuat matrix menjadi vektor baris, tanpa mengubah 'matrix a' nya\n",
    "- Reshape : mengubah shape matrix sesuai urutan / flaten array nya, tanpa mengubah 'matrix a' nya\n",
    "- Resize : mengubah shape matrix sesuai urutan / flaten array nya, dengan mengubah 'matrix a' nya. <break>    \n",
    "    \n",
    "__#1__ print bentuk 'matrix a', <br>\n",
    "__#2, #3__ & __#4__ transpose 'matrix a', <br>\n",
    "__#5__ & __#6__ flatten 'matrix a', <br>\n",
    "__#7__ reshape 'matrix a', <br>\n",
    "__#8__ resize 'matrix a'.  "
   ]
  },
  {
   "cell_type": "markdown",
   "metadata": {},
   "source": [
    "### 6. Stacking Matrix (vidio ke-6)"
   ]
  },
  {
   "cell_type": "code",
   "execution_count": 6,
   "metadata": {},
   "outputs": [
    {
     "name": "stdout",
     "output_type": "stream",
     "text": [
      "vektor a: [1 2 3]\n",
      "vektor b: [4 5 6] \n",
      "\n",
      "hstack: [1 2 3 4 5 6]\n",
      "vstack:\n",
      "[[1 2 3]\n",
      " [4 5 6]] \n",
      "\n",
      "matrix c:\n",
      "[[0. 0. 0.]\n",
      " [0. 0. 0.]]\n",
      "matrix d:\n",
      "[[1. 1. 1.]\n",
      " [1. 1. 1.]] \n",
      "\n",
      "hstack:\n",
      "[[0. 0. 0. 1. 1. 1.]\n",
      " [0. 0. 0. 1. 1. 1.]]\n",
      "vstack:\n",
      "[[0. 0. 0.]\n",
      " [0. 0. 0.]\n",
      " [1. 1. 1.]\n",
      " [1. 1. 1.]]\n"
     ]
    }
   ],
   "source": [
    "import numpy as np\n",
    "\n",
    "a = np.array([1,2,3])\n",
    "b = np.array([4,5,6])\n",
    "c = np.zeros((2,3))\n",
    "d = np.ones((2,3))\n",
    "\n",
    "hasil_1 = np.hstack((a,b))          #1\n",
    "hasil_2 = np.vstack((a,b))          #2\n",
    "hasil_3 = np.hstack((c,d))          #3\n",
    "hasil_4 = np.vstack((c,d))          #4\n",
    "\n",
    "print('vektor a:',a)\n",
    "print('vektor b:',b,'\\n')\n",
    "print('hstack:',hasil_1)\n",
    "print('vstack:')\n",
    "print(hasil_2,'\\n')\n",
    "print('matrix c:')\n",
    "print(c)\n",
    "print('matrix d:')\n",
    "print(d,'\\n')\n",
    "print('hstack:')\n",
    "print(hasil_3)\n",
    "print('vstack:')\n",
    "print(hasil_4)"
   ]
  },
  {
   "cell_type": "markdown",
   "metadata": {},
   "source": [
    "<font color=fuchsia> <B>PENJELASAN : </font> <br>\n",
    "__#1__ menumpuk vektor 'a' dan 'b' secara horizontal, <br>\n",
    "__#2__ menumpuk vektor 'a' dan 'b' secara vertikal, <br>\n",
    "__#3__ menumpuk matrix 'c' dan 'd' secara horizontal, <br>\n",
    "__#4__ menumpuk matrix 'c' dan 'd' secara vertikal."
   ]
  },
  {
   "cell_type": "markdown",
   "metadata": {},
   "source": [
    "### 7. Advanced Array Creation (vidio ke-7)"
   ]
  },
  {
   "cell_type": "code",
   "execution_count": 7,
   "metadata": {},
   "outputs": [
    {
     "name": "stdout",
     "output_type": "stream",
     "text": [
      "matrix type data integer:\n",
      "[[1 2 3]\n",
      " [3 4 5]]\n",
      "matrix type data float:\n",
      "[[1. 2. 3.]\n",
      " [3. 4. 5.]] \n",
      "\n",
      "matrix from function \"kuadrat\":\n",
      "[[ 0  1  4  9 16 25 36 49 64 81]]\n",
      "matrix from function \"jumlah\":\n",
      "[[0. 1. 2. 3.]\n",
      " [1. 2. 3. 4.]\n",
      " [2. 3. 4. 5.]\n",
      " [3. 4. 5. 6.]] \n",
      "\n",
      "matrix from iterable \" *2 \" :\n",
      "[[0. 1. 2. 3.]\n",
      " [1. 2. 3. 4.]\n",
      " [2. 3. 4. 5.]\n",
      " [3. 4. 5. 6.]] \n",
      "\n",
      "matrix dengan multitype array \" nama, tinggi \" :\n",
      "[(b'Sila', 135) (b'mas', 160) (b'teteh', 153)]\n",
      "(b'Sila', 135)\n"
     ]
    }
   ],
   "source": [
    "import numpy as np\n",
    "\n",
    "a = np.array((\n",
    "               [1,2,3],\n",
    "               [3,4,5]\n",
    "                       ), dtype = int)       #1\n",
    "b = np.array((\n",
    "               [1,2,3],\n",
    "               [3,4,5]\n",
    "                       ), dtype = float)     #2\n",
    "\n",
    "\n",
    "def kuadrat(baris,kolom):                          \n",
    "    return(kolom)**2\n",
    "def jumlah(baris,kolom):                           \n",
    "    return(kolom + baris)\n",
    "c = np.fromfunction(kuadrat, (1,10), dtype = int)  #3\n",
    "d = np.fromfunction(jumlah, (4,4), dtype = float)  #4\n",
    "\n",
    "\n",
    "iterable = (x*2 for x in range(5))           #5\n",
    "e = np.fromiter(iterable, dtype = int)       #6\n",
    "\n",
    "dtipe = [ ('nama', 'S255'),\n",
    "          ('tinggi', int)  ]\n",
    "data = [\n",
    "         ('Sila', 135),\n",
    "         ('mas', 160),\n",
    "         ('teteh', 153)\n",
    "                         ]\n",
    "f = np.array(data, dtype = dtipe)         #7\n",
    "\n",
    "print('matrix type data integer:')\n",
    "print(a)\n",
    "print('matrix type data float:')\n",
    "print(b, '\\n')\n",
    "\n",
    "print('matrix from function \"kuadrat\":')\n",
    "print(c)\n",
    "print('matrix from function \"jumlah\":')\n",
    "print(d, '\\n')\n",
    "\n",
    "print('matrix from iterable \" *2 \" :')\n",
    "print(d, '\\n')\n",
    "\n",
    "print('matrix dengan multitype array \" nama, tinggi \" :')\n",
    "print(f)\n",
    "print(f[0])"
   ]
  },
  {
   "cell_type": "markdown",
   "metadata": {},
   "source": [
    "<font color=fuchsia> <B>PENJELASAN : </font> <br>\n",
    "__#1__ membuat matrix dengan type data integer, <br>\n",
    "__#2__ membuat matrix dengan type data float, <br>\n",
    "__#3__ membuat matrix from function \"kuadrat\", <br>\n",
    "__#4__ membuat matrix from function \"jumlah\", <br>\n",
    "__#5__ membuat iterable : \"setiap element x untuk x dalam range 1-4\",  \n",
    "__#6__ membuat matrix from iterable \" *2 \", <br>\n",
    "__#7__ membuat matrix dengan multitype array \" nama, tinggi \" . "
   ]
  },
  {
   "cell_type": "markdown",
   "metadata": {},
   "source": [
    "### 8. Sorting Numpy Array / Ordering (vidio ke-8)"
   ]
  },
  {
   "cell_type": "code",
   "execution_count": 8,
   "metadata": {},
   "outputs": [
    {
     "name": "stdout",
     "output_type": "stream",
     "text": [
      "===== SORTING A VEKTOR =====\n",
      "[[  7.  14.  17. -21.  16. -24.]] \n",
      "\n",
      "nilai max dari a =  17.0\n",
      "posisi max dari a =  2\n",
      "nilai min dari a =  -24.0\n",
      "posisi nilai min dari a =  5\n",
      "mengurutkan nilai a:\n",
      "[[-24. -21.   7.  14.  16.  17.]]\n",
      "mengurutkan posisi a:\n",
      "[[5 3 0 1 4 2]] \n",
      "\n",
      "===== SORTING A MATRIX =====\n",
      "[[ -1.   5.]\n",
      " [ -4. -10.]] \n",
      "\n",
      "nilai max dari b =  5.0\n",
      "posisi max dari b =  1\n",
      "nilai min dari b =  -10.0\n",
      "posisi nilai min dari b =  3\n",
      "mengurutkan nilai b:\n",
      "[[ -1.   5.]\n",
      " [-10.  -4.]]\n",
      "mengurutkan posisi b:\n",
      "[[0 1]\n",
      " [1 0]] \n",
      "\n",
      "===== SORTING A DATA =====\n",
      "[(b'teteh', 153) (b'mas', 160) (b'sila', 135)] \n",
      "\n",
      "mengurutkan data dari tinggi :\n",
      "[(b'sila', 135) (b'teteh', 153) (b'mas', 160)]\n",
      "mengurutkan data dari nama :\n",
      "[(b'mas', 160) (b'sila', 135) (b'teteh', 153)]\n"
     ]
    }
   ],
   "source": [
    "print('===== SORTING A VEKTOR =====')\n",
    "import numpy as np\n",
    "\n",
    "a = np.floor(np.random.randn(1,6)*10)        #1\n",
    "print(a,'\\n')\n",
    "\n",
    "print('nilai max dari a = ',a.max())                #2\n",
    "print('posisi max dari a = ',a.argmax())            #3\n",
    "print('nilai min dari a = ',a.min())                #4\n",
    "print('posisi nilai min dari a = ',a.argmin())      #5\n",
    "\n",
    "print('mengurutkan nilai a:')\n",
    "print(np.sort(a))                      #6\n",
    "print('mengurutkan posisi a:')\n",
    "print(np.argsort(a),'\\n')              #7\n",
    "\n",
    "\n",
    "print('===== SORTING A MATRIX =====')\n",
    "b = np.floor(np.random.randn(2,2)*10)       #8\n",
    "print(b,'\\n')\n",
    "\n",
    "print('nilai max dari b = ',b.max())                #9\n",
    "print('posisi max dari b = ',b.argmax())            #10\n",
    "print('nilai min dari b = ',b.min())                #11\n",
    "print('posisi nilai min dari b = ',b.argmin())      #12\n",
    "\n",
    "print('mengurutkan nilai b:')\n",
    "print(np.sort(b))                   #13\n",
    "print('mengurutkan posisi b:')\n",
    "print(np.argsort(b),'\\n')           #14\n",
    "\n",
    "\n",
    "print('===== SORTING A DATA =====')\n",
    "dtipe = [\n",
    "          ('nama','S10'),\n",
    "          ('tinggi', int)\n",
    "                          ]\n",
    "data = [\n",
    "         ('teteh', 153),\n",
    "         ('mas', 160),\n",
    "         ('sila', 135),    \n",
    "                         ]\n",
    "c = np.array(data, dtype = dtipe)         \n",
    "print(c,'\\n')\n",
    "print('mengurutkan data dari tinggi :')\n",
    "print(np.sort(c, order = 'tinggi'))      #15\n",
    "print('mengurutkan data dari nama :')\n",
    "print(np.sort(c, order = 'nama'))        #16"
   ]
  },
  {
   "cell_type": "markdown",
   "metadata": {},
   "source": [
    "<font color=fuchsia> <B>PENJELASAN : </font> <br>\n",
    "Sorting A Vektor : \n",
    "> __#1__ generating a random vektor, <br>\n",
    "__#2__ print nilai max dari vektor 'a', <br>\n",
    "__#3__ print posisi max dari vektor 'a', <br>\n",
    "__#4__ print nilai min dari vektor 'a', <br>\n",
    "__#5__ print posisi min dari vektor 'a', <br>\n",
    "__#6__ print urutan nilai dari vektor 'a', <br>\n",
    "__#7__ print urutan posisi dari vektor 'a'. <br>\n",
    "    <br>\n",
    "    \n",
    "Sorting A Matrix :\n",
    "> __#8__ generating a random matrix, <br>\n",
    "__#9__ print nilai max dari matrix 'b', <br>\n",
    "__#10__ print posisi max dari matrix 'b', <br>\n",
    "__#11__ print nilai min dari matrix 'b', <br>\n",
    "__#12__ print posisi min dari matrix 'b', <br>\n",
    "__#13__ print urutan nilai dari matrix 'b', <br>\n",
    "__#14__ print urutan posisi dari matrix 'b'. <br>\n",
    "    <br>\n",
    "\n",
    "Sorting A Data : \n",
    "> __#15__ print urutan data dari tinggi, <br>\n",
    "__#16__ print urutan data dari nama. <br>     "
   ]
  },
  {
   "cell_type": "markdown",
   "metadata": {},
   "source": [
    "### 9. Perkalian Vektor : Dot dan Cross (vidio ke-9)"
   ]
  },
  {
   "cell_type": "code",
   "execution_count": 9,
   "metadata": {},
   "outputs": [
    {
     "name": "stdout",
     "output_type": "stream",
     "text": [
      "vektor a : [1 3]\n",
      "vektor b : [3 0]\n",
      "a dot b adalah  3 \n",
      "\n",
      "vektor c : [1 2 0]\n",
      "vektor d : [2 1 0]\n",
      "c cross d adalah  [ 0  0 -3]\n",
      "d cross c adalah  [0 0 3]\n"
     ]
    }
   ],
   "source": [
    "import numpy as np\n",
    "\n",
    "a = np.array([1,3])\n",
    "b = np.array([3,0])\n",
    "c = np.array([1,2,0])\n",
    "d = np.array([2,1,0])\n",
    "\n",
    "hasil_1 = np.dot(a,b)        #1\n",
    "hasil_2 = np.cross(c,d)      #2\n",
    "hasil_3 = np.cross(d,c)      #3\n",
    "\n",
    "print('vektor a :', a)\n",
    "print('vektor b :', b)\n",
    "print('a dot b adalah ', hasil_1,'\\n')\n",
    "\n",
    "print('vektor c :', c)\n",
    "print('vektor d :', d)\n",
    "print('c cross d adalah ', hasil_2)\n",
    "print('d cross c adalah ', hasil_3)"
   ]
  },
  {
   "attachments": {
    "image.png": {
     "image/png": "[encoded data removed]"
    }
   },
   "cell_type": "markdown",
   "metadata": {},
   "source": [
    "<font color=fuchsia> <B>PENJELASAN : </font> <br>\n",
    "Rumus dot $(•)$ product :\n",
    "![image.png](attachment:image.png)"
   ]
  },
  {
   "attachments": {
    "image.png": {
     "image/png": "[encoded data removed]"
    }
   },
   "cell_type": "markdown",
   "metadata": {},
   "source": [
    "Rumus cross $(×)$ product :\n",
    "![image.png](attachment:image.png)\n",
    "    \n",
    "__#1__ menghitung vektor a dot vektor b, <br>\n",
    "__#2__ menghitung vektor c cross vektor d, <br>\n",
    "__#3__ menghitung vektor d cross vektor c. "
   ]
  },
  {
   "cell_type": "markdown",
   "metadata": {},
   "source": [
    "### 10. Invers dan Determinan (vidio ke-10)"
   ]
  },
  {
   "cell_type": "code",
   "execution_count": 10,
   "metadata": {},
   "outputs": [
    {
     "name": "stdout",
     "output_type": "stream",
     "text": [
      "matrix a :\n",
      "[[ 1 -1]\n",
      " [ 1  1]] \n",
      "\n",
      "inverse matrix a :\n",
      "[[ 0.5  0.5]\n",
      " [-0.5  0.5]]\n",
      "determinan matrix a :\n",
      "2.0\n",
      "determinan inverse matrix a :\n",
      "0.5\n"
     ]
    }
   ],
   "source": [
    "import numpy as np\n",
    "\n",
    "a = np.array([  (1,-1),\n",
    "                 (1,1)    ])\n",
    "\n",
    "a_inverse = np.linalg.inv(a)               #1\n",
    "det_a = np.linalg.det(a)                   #2\n",
    "det_a_inverse = np.linalg.det(a_inverse)   #3\n",
    "\n",
    "print('matrix a :')\n",
    "print(a,'\\n')\n",
    "print('inverse matrix a :')\n",
    "print(a_inverse)\n",
    "print('determinan matrix a :')\n",
    "print(det_a)\n",
    "print('determinan inverse matrix a :')\n",
    "print(det_a_inverse)"
   ]
  },
  {
   "attachments": {
    "image.png": {
     "image/png": "[encoded data removed]"
    }
   },
   "cell_type": "markdown",
   "metadata": {},
   "source": [
    "<font color=fuchsia> <B>PENJELASAN : </font> <br>\n",
    "- Rumus invers matrix :  \n",
    "> ![image.png](attachment:image.png)"
   ]
  },
  {
   "attachments": {
    "image.png": {
     "image/png": "[encoded data removed]"
    }
   },
   "cell_type": "markdown",
   "metadata": {},
   "source": [
    "- Rumus determinan matrix :\n",
    "![image.png](attachment:image.png)\n",
    "    \n",
    "__#1__ menghitung inverse matrix a, <br>\n",
    "__#2__ menghitung determinan matrix a, <br>\n",
    "__#3__ menghitung determinan inverse matrix a. "
   ]
  },
  {
   "cell_type": "markdown",
   "metadata": {},
   "source": [
    "### 11. Solusi Persamaan Linear (vidio ke-11)"
   ]
  },
  {
   "cell_type": "code",
   "execution_count": 12,
   "metadata": {},
   "outputs": [
    {
     "name": "stdout",
     "output_type": "stream",
     "text": [
      "matrix A :\n",
      "[[2 3]\n",
      " [1 2]] \n",
      "\n",
      "matrix Y :\n",
      "[23 14]\n",
      "variabel x & y :\n",
      "[4. 5.]\n",
      "variabel x & y :\n",
      "[4. 5.]\n"
     ]
    }
   ],
   "source": [
    "import numpy as np\n",
    "\n",
    "A = np.array([  (2,3),\n",
    "                (1,2)   ])\n",
    "Y = np.array([23,14])\n",
    "\n",
    "A_inverse = np.linalg.inv(A)\n",
    "\n",
    "X1 = np.dot(A_inverse, Y)       #1\n",
    "X2 = np.linalg.solve(A, Y)      #2\n",
    "\n",
    "print('matrix A :')\n",
    "print(A,'\\n')\n",
    "print('matrix Y :')\n",
    "print(Y)\n",
    "print('variabel x & y :')\n",
    "print(X1)\n",
    "print('variabel x & y :')\n",
    "print(X2)"
   ]
  },
  {
   "attachments": {
    "image.png": {
     "image/png": "[encoded data removed]"
    }
   },
   "cell_type": "markdown",
   "metadata": {},
   "source": [
    "<font color=fuchsia> <B>PENJELASAN : </font> <br>\n",
    ">2x + 3y = 23<br>\n",
    "x + 2y = 14<br>\n",
    "    \n",
    "sistem persamaan linear diatas, dalam matrix adalah\n",
    "![image.png](attachment:image.png)"
   ]
  },
  {
   "attachments": {
    "image.png": {
     "image/png": "[encoded data removed]"
    }
   },
   "cell_type": "markdown",
   "metadata": {},
   "source": [
    "Cara mencari variabel x dan y :\n",
    "![image.png](attachment:image.png)\n",
    "__#1__ mencari variabel x dan y dengan cara di atas,<br>\n",
    "__#2__ mencari variabel x dan y dengan cara lain."
   ]
  },
  {
   "cell_type": "markdown",
   "metadata": {},
   "source": [
    "### 12. Plot Data dengan Matplotlib (vidio ke-12)"
   ]
  },
  {
   "cell_type": "code",
   "execution_count": 14,
   "metadata": {},
   "outputs": [
    {
     "name": "stdout",
     "output_type": "stream",
     "text": [
      "vektor x : [ 0  1  2  3  4  5  6  7  8  9 10]\n",
      "persamaan garis : \n",
      "                    y = 2x + 3 \n",
      "\n",
      "substitusi x pada y, menjadi : \n",
      "           [ 3  5  7  9 11 13 15 17 19 21 23]\n",
      "\n",
      "figur x dan y nya adalah :\n"
     ]
    },
    {
     "data": {
      "image/png": "[encoded data removed]",
      "text/plain": [
       "<Figure size 432x288 with 1 Axes>"
      ]
     },
     "metadata": {
      "needs_background": "light"
     },
     "output_type": "display_data"
    },
    {
     "data": {
      "text/plain": [
       "<Figure size 432x288 with 0 Axes>"
      ]
     },
     "metadata": {},
     "output_type": "display_data"
    }
   ],
   "source": [
    "import numpy as np\n",
    "import matplotlib.pyplot as plt\n",
    "\n",
    "# y = 2x + 3              #1\n",
    "x = np.arange(0,11,1)\n",
    "y = 2*x + 3               #2\n",
    "plt.plot(x,y)             #3\n",
    "plt.figure()              #4\n",
    "plt.show                  #5\n",
    "\n",
    "print('vektor x :', x)\n",
    "print('persamaan garis : \\n                    y = 2x + 3 \\n')\n",
    "print('substitusi x pada y, menjadi : \\n          ', y)\n",
    "print('\\nfigur x dan y nya adalah :')"
   ]
  },
  {
   "cell_type": "code",
   "execution_count": 15,
   "metadata": {},
   "outputs": [
    {
     "name": "stdout",
     "output_type": "stream",
     "text": [
      "r = 5 \n",
      "sudut = 0.2 pi \n",
      "figur x dan y nya adalah :\n"
     ]
    },
    {
     "data": {
      "text/plain": [
       "<function matplotlib.pyplot.show(*args, **kw)>"
      ]
     },
     "execution_count": 15,
     "metadata": {},
     "output_type": "execute_result"
    },
    {
     "data": {
      "image/png": "[encoded data removed]",
      "text/plain": [
       "<Figure size 432x288 with 1 Axes>"
      ]
     },
     "metadata": {
      "needs_background": "light"
     },
     "output_type": "display_data"
    },
    {
     "data": {
      "text/plain": [
       "<Figure size 432x288 with 0 Axes>"
      ]
     },
     "metadata": {},
     "output_type": "display_data"
    }
   ],
   "source": [
    "import numpy as np\n",
    "import matplotlib.pyplot as plt\n",
    "\n",
    "jari2 = 5                            #6\n",
    "sudut = np.linspace(0,2*np.pi,100)   #7\n",
    "x2 = jari2*np.cos(sudut)             #8\n",
    "y2 = jari2*np.sin(sudut)             #9\n",
    "\n",
    "print('r = 5 \\nsudut = 0.2 pi \\nfigur x dan y nya adalah :')\n",
    "plt.plot(x2,y2)             #10\n",
    "plt.figure()                #11\n",
    "plt.show                    #12 "
   ]
  },
  {
   "cell_type": "markdown",
   "metadata": {},
   "source": [
    "<font color=fuchsia> <B>PENJELASAN : </font> <br>   \n",
    "__#1__ persamaan garisnya <br>\n",
    "__#2__ substitusi x pada y, <br>\n",
    "__#3__,__#4__ & __#5__ menunjukkan plot figure x dan y. <br>\n",
    "<br>\n",
    "__#10__,__#11__ & __#12__ menunjukkan plot figure x dan y bentuk lingkaran dengan ketentuan __#6__,__#7__,__#8__ & __#9__ ."
   ]
  }
 ],
 "metadata": {
  "kernelspec": {
   "display_name": "Python 3",
   "language": "python",
   "name": "python3"
  },
  "language_info": {
   "codemirror_mode": {
    "name": "ipython",
    "version": 3
   },
   "file_extension": ".py",
   "mimetype": "text/x-python",
   "name": "python",
   "nbconvert_exporter": "python",
   "pygments_lexer": "ipython3",
   "version": "3.7.3"
  }
 },
 "nbformat": 4,
 "nbformat_minor": 2
}
