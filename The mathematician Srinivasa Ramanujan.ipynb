{
 "cells": [
  {
   "cell_type": "code",
   "execution_count": 9,
   "metadata": {},
   "outputs": [
    {
     "name": "stdout",
     "output_type": "stream",
     "text": [
      "Pi di Python:  3.141592653589793\n",
      "Pi Greco Serie di Srinivasa_Ramanujan:  3.141592653589793\n"
     ]
    }
   ],
   "source": [
    "import math as m\n",
    "\n",
    "def fattoriale(i):\n",
    "    if i == 0:\n",
    "        return 1\n",
    "    else:\n",
    "        return i * fattoriale(i - 1)\n",
    "\n",
    "def Pi_Greco_Srinivasa_Ramanujan():\n",
    "    totale, n = 0, 0\n",
    "    numero = (2 * m.sqrt(2)) / 9801\n",
    "        \n",
    "    while True:\n",
    "        numeratore_serie = fattoriale(4*n) * (1103 + 26390*n)\n",
    "        denominatore_serie = (fattoriale(n)**4) * 396**(4*n)\n",
    "        ultimo_termine = numero * (numeratore_serie / denominatore_serie)\n",
    "        totale += ultimo_termine\n",
    "            \n",
    "        if abs(ultimo_termine) < 1e-15:\n",
    "            break\n",
    "            \n",
    "        n += 1\n",
    "            \n",
    "    return 1 / totale\n",
    "            \n",
    "print (\"Pi di Python: \", m.pi)\n",
    "print (\"Pi Greco Serie di Srinivasa_Ramanujan: \", Pi_Greco_Srinivasa_Ramanujan())"
   ]
  },
  {
   "cell_type": "code",
   "execution_count": 17,
   "metadata": {},
   "outputs": [
    {
     "name": "stdout",
     "output_type": "stream",
     "text": [
      "Finished at iteration number 3\n",
      "Estimate_pi :   3.141592653589793\n",
      "\n",
      "Pi di Python :  3.141592653589793\n"
     ]
    }
   ],
   "source": [
    "import math\n",
    "\n",
    "def factorial(n):\n",
    "    if n == 0:\n",
    "        return 1\n",
    "    else:\n",
    "        recurse = factorial(n-1)\n",
    "        result = n * recurse\n",
    "        return result\n",
    "\n",
    "def estimate_pi():\n",
    "    total = 0\n",
    "    k = 0\n",
    "    factor = 2 * math.sqrt(2) / 9801\n",
    "    keep_going = True   \n",
    "    while keep_going == True:\n",
    "        numerator = float(factorial(4*k) * (1103 + 26390 * k))\n",
    "        denominator = float(factorial(k)**4) * 396**(4*k)\n",
    "        term = factor * float(numerator/denominator)\n",
    "        total += term\n",
    "        k += 1  \n",
    "        if term < 1e-15:\n",
    "            keep_going == False\n",
    "            print (\"Finished at iteration number\", k)\n",
    "            break\n",
    "    return 1 / total\n",
    "\n",
    "print ('Estimate_pi:  ', estimate_pi())\n",
    "print()\n",
    "print (\"Pi di Python: \", math.pi)"
   ]
  },
  {
   "cell_type": "code",
   "execution_count": 7,
   "metadata": {},
   "outputs": [
    {
     "name": "stdout",
     "output_type": "stream",
     "text": [
      "3.141592653589793\n"
     ]
    }
   ],
   "source": [
    "print (math.pi)"
   ]
  }
 ],
 "metadata": {
  "kernelspec": {
   "display_name": "Python 3",
   "language": "python",
   "name": "python3"
  },
  "language_info": {
   "codemirror_mode": {
    "name": "ipython",
    "version": 3
   },
   "file_extension": ".py",
   "mimetype": "text/x-python",
   "name": "python",
   "nbconvert_exporter": "python",
   "pygments_lexer": "ipython3",
   "version": "3.7.3"
  }
 },
 "nbformat": 4,
 "nbformat_minor": 2
}
