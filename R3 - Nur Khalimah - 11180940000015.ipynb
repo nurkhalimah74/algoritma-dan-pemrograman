{
 "cells": [
  {
   "cell_type": "markdown",
   "metadata": {},
   "source": [
    "### Nama : Nur Khalimah\n",
    "### NIM__: 11180940000015"
   ]
  },
  {
   "cell_type": "markdown",
   "metadata": {},
   "source": [
    " "
   ]
  },
  {
   "cell_type": "markdown",
   "metadata": {},
   "source": [
    "## Bekerja dengan List dan Tuples"
   ]
  },
  {
   "cell_type": "markdown",
   "metadata": {},
   "source": [
    "### Looping pada Element List"
   ]
  },
  {
   "cell_type": "markdown",
   "metadata": {},
   "source": [
    "**Contoh 1** : print list satu persatu"
   ]
  },
  {
   "cell_type": "code",
   "execution_count": 1,
   "metadata": {},
   "outputs": [
    {
     "name": "stdout",
     "output_type": "stream",
     "text": [
      "toyota\n",
      "honda\n",
      "BMW\n",
      "hyundai\n"
     ]
    }
   ],
   "source": [
    "mobil = ['toyota', 'honda', 'BMW', 'hyundai']\n",
    "for i in mobil :\n",
    "    print(i)"
   ]
  },
  {
   "cell_type": "markdown",
   "metadata": {},
   "source": [
    "**Penjelasan:**\n",
    "pengulangan **for** artinya \"masukkan nilai-nilai yg ada pd elemen di list 'mobil' ke dalam variabel \"i\""
   ]
  },
  {
   "cell_type": "code",
   "execution_count": 4,
   "metadata": {},
   "outputs": [
    {
     "name": "stdout",
     "output_type": "stream",
     "text": [
      "Pembelian ke 1  yaitu Toyota\n",
      "Pembelian ke 2  yaitu Honda\n",
      "Pembelian ke 3  yaitu Bmw\n",
      "Pembelian ke 4  yaitu Hyundai\n"
     ]
    }
   ],
   "source": [
    "angka = 1\n",
    "for i in mobil : \n",
    "    print (\"Pembelian ke \" + str (angka) + \"  yaitu \"+ i.title())\n",
    "    angka += 1 # artinya sama dengan angka = angka + 1 "
   ]
  },
  {
   "cell_type": "code",
   "execution_count": 6,
   "metadata": {
    "scrolled": true
   },
   "outputs": [
    {
     "name": "stdout",
     "output_type": "stream",
     "text": [
      "Pembelian ke 1  yaitu Toyota\n",
      "Pembelian ke 1  yaitu Honda\n",
      "Pembelian ke 1  yaitu Bmw\n",
      "Pembelian ke 1  yaitu Hyundai\n"
     ]
    }
   ],
   "source": [
    "angka = 1\n",
    "for i in mobil : \n",
    "    print (\"Pembelian ke \" + str (angka) + \"  yaitu \"+ i.title()) # nilai variabel tetap 1\n",
    "    angka = 1 # disinih nilai variabel angka adalah 1"
   ]
  },
  {
   "cell_type": "markdown",
   "metadata": {},
   "source": [
    "### Error yg sering terjadi"
   ]
  },
  {
   "cell_type": "code",
   "execution_count": 7,
   "metadata": {},
   "outputs": [
    {
     "ename": "IndentationError",
     "evalue": "expected an indented block (<ipython-input-7-41970e007a9c>, line 3)",
     "output_type": "error",
     "traceback": [
      "\u001b[1;36m  File \u001b[1;32m\"<ipython-input-7-41970e007a9c>\"\u001b[1;36m, line \u001b[1;32m3\u001b[0m\n\u001b[1;33m    print(i)                                       # (3)\u001b[0m\n\u001b[1;37m        ^\u001b[0m\n\u001b[1;31mIndentationError\u001b[0m\u001b[1;31m:\u001b[0m expected an indented block\n"
     ]
    }
   ],
   "source": [
    "mobil = ['toyota', 'honda','BMW','hyundai']    # (1)\n",
    "for i in mobil:                                # (2)\n",
    "print(i)                                       # (3)"
   ]
  },
  {
   "cell_type": "markdown",
   "metadata": {},
   "source": [
    "**penjelasan :** baris (3) identasinya sejajar pada baris (2) (artinya tidak berada dalam satu blok), maka terjadi **IndentationError**"
   ]
  },
  {
   "cell_type": "code",
   "execution_count": 8,
   "metadata": {},
   "outputs": [
    {
     "ename": "SyntaxError",
     "evalue": "invalid syntax (<ipython-input-8-77c85e4bfbac>, line 2)",
     "output_type": "error",
     "traceback": [
      "\u001b[1;36m  File \u001b[1;32m\"<ipython-input-8-77c85e4bfbac>\"\u001b[1;36m, line \u001b[1;32m2\u001b[0m\n\u001b[1;33m    for i in mobil                                # lupa tanda kolon ':'\u001b[0m\n\u001b[1;37m                                                                        ^\u001b[0m\n\u001b[1;31mSyntaxError\u001b[0m\u001b[1;31m:\u001b[0m invalid syntax\n"
     ]
    }
   ],
   "source": [
    "mobil = ['toyota', 'honda','BMW','hyundai']    \n",
    "for i in mobil                                # lupa tanda kolon ':'\n",
    " print(i)                                      "
   ]
  },
  {
   "cell_type": "markdown",
   "metadata": {},
   "source": [
    "### Membuat List Numerik"
   ]
  },
  {
   "cell_type": "code",
   "execution_count": 9,
   "metadata": {
    "scrolled": true
   },
   "outputs": [
    {
     "name": "stdout",
     "output_type": "stream",
     "text": [
      "1\n",
      "2\n",
      "3\n",
      "4\n"
     ]
    }
   ],
   "source": [
    "for nilai in range(1,5): # range(1,n) berarti akn menghasilkan angka yg berurutan dari 1 s.d n-1\n",
    "    print(nilai)         "
   ]
  },
  {
   "cell_type": "code",
   "execution_count": 10,
   "metadata": {},
   "outputs": [
    {
     "name": "stdout",
     "output_type": "stream",
     "text": [
      "0\n",
      "1\n",
      "2\n",
      "3\n",
      "4\n"
     ]
    }
   ],
   "source": [
    "for nilai in range(5): # range(n) berarti akn menghasilkan angka yg berurutan dari 0 s.d n-1\n",
    "    print(nilai) "
   ]
  },
  {
   "cell_type": "code",
   "execution_count": 11,
   "metadata": {},
   "outputs": [
    {
     "name": "stdout",
     "output_type": "stream",
     "text": [
      "[1, 2, 3, 4]\n"
     ]
    }
   ],
   "source": [
    "angka = list(range(1,5))\n",
    "print(angka)"
   ]
  },
  {
   "cell_type": "markdown",
   "metadata": {},
   "source": [
    "**Contoh 2:** range(awal, akhir, jeda) terdapat parameter **awal** yg menunjukan angka awal, parameter **akhir** menunjukkan angka terakhir -1, dan parameter **jeda** menunjukkan \"dilongkap berapa kali\""
   ]
  },
  {
   "cell_type": "code",
   "execution_count": 12,
   "metadata": {},
   "outputs": [
    {
     "name": "stdout",
     "output_type": "stream",
     "text": [
      "[2, 4, 6, 8, 10, 12, 14, 16, 18]\n"
     ]
    }
   ],
   "source": [
    "angka = list(range(2,20,2))\n",
    "print(angka)"
   ]
  },
  {
   "cell_type": "code",
   "execution_count": 13,
   "metadata": {},
   "outputs": [
    {
     "name": "stdout",
     "output_type": "stream",
     "text": [
      "[100, 81, 64, 49, 36, 25, 16, 9, 4, 1, 0, 1, 4, 9, 16, 25, 36, 49, 64, 81]\n"
     ]
    }
   ],
   "source": [
    "angka = []\n",
    "for nilai in range(-10,10) :\n",
    "    pangkat = nilai**2\n",
    "    angka.append(pangkat)\n",
    "print(angka)"
   ]
  },
  {
   "cell_type": "code",
   "execution_count": 14,
   "metadata": {},
   "outputs": [
    {
     "name": "stdout",
     "output_type": "stream",
     "text": [
      "[100, 81, 64, 49, 36, 25, 16, 9, 4, 1, 0, 1, 4, 9, 16, 25, 36, 49, 64, 81]\n"
     ]
    }
   ],
   "source": [
    "angka = [nilai**2 for nilai in range(-10,10)] # komprehensif list : membust list hanya 1 baris kode\n",
    "print(angka)"
   ]
  },
  {
   "cell_type": "code",
   "execution_count": 15,
   "metadata": {},
   "outputs": [
    {
     "name": "stdout",
     "output_type": "stream",
     "text": [
      "Nilai terkecil: 1\n",
      "Nilai terbesar: 383\n",
      "jumlah: 1978\n"
     ]
    }
   ],
   "source": [
    "data = [283, 34, 21, 43, 65, 2, 12, 2, 124, 1, 203, 383, 124, 231, 12, 64, 74, 73, 98, 83, 3, 43]\n",
    "nilai_min = min(data)\n",
    "nilai_max = max(data)\n",
    "jumlah = sum(data)\n",
    "print(\"Nilai terkecil: \" + str(nilai_min))\n",
    "print(\"Nilai terbesar: \" + str(nilai_max))\n",
    "print(\"jumlah: \" + str(jumlah))"
   ]
  },
  {
   "cell_type": "code",
   "execution_count": 30,
   "metadata": {},
   "outputs": [
    {
     "name": "stdout",
     "output_type": "stream",
     "text": [
      "Nilai terkecil: 1\n",
      "Nilai terbesar: 383\n",
      "jumlah: 1978\n"
     ]
    }
   ],
   "source": [
    "# kode yg lebih \"compact\" nya:\n",
    "data = [283, 34, 21, 43, 65, 2, 12, 2, 124, 1, 203, 383, 124, 231, 12, 64, 74, 73, 98, 83, 3, 43]\n",
    "print(\"Nilai terkecil: {}\".format(min(data)))\n",
    "print(\"Nilai terbesar: {}\".format(max(data)))\n",
    "print(\"jumlah: {}\".format(sum(data)))"
   ]
  },
  {
   "cell_type": "markdown",
   "metadata": {},
   "source": [
    "### Bekerja dengan Sebagian Elemen List"
   ]
  },
  {
   "cell_type": "code",
   "execution_count": 16,
   "metadata": {},
   "outputs": [
    {
     "name": "stdout",
     "output_type": "stream",
     "text": [
      "['toyota', 'honda', 'BMW']\n"
     ]
    }
   ],
   "source": [
    "mobil = ['toyota', 'honda', 'BMW', 'daihatsu', 'ferrari']\n",
    "print (mobil[0:3]) # slice elemen ke 0 s.d 2"
   ]
  },
  {
   "cell_type": "code",
   "execution_count": 17,
   "metadata": {},
   "outputs": [
    {
     "name": "stdout",
     "output_type": "stream",
     "text": [
      "Output mobil 1:  ['toyota', 'honda']\n",
      "Output mobil 2:  ['BMW', 'daihatsu', 'ferrari']\n",
      "Output mobil 3:  ['toyota', 'honda', 'BMW', 'daihatsu', 'ferrari']\n"
     ]
    }
   ],
   "source": [
    "mobil = ['toyota', 'honda', 'BMW', 'daihatsu', 'ferrari']\n",
    "mobil1 = mobil[:2]  # slice dari elemen 0 s.d 1\n",
    "mobil2 = mobil[2:]  # slice dari elemen 2 s.d akhir\n",
    "mobil3 = mobil[:]   # slice semua elemen\n",
    "print(\"Output mobil 1: \",mobil1)\n",
    "print(\"Output mobil 2: \",mobil2)\n",
    "print(\"Output mobil 3: \",mobil3)"
   ]
  },
  {
   "cell_type": "code",
   "execution_count": 18,
   "metadata": {},
   "outputs": [
    {
     "name": "stdout",
     "output_type": "stream",
     "text": [
      "Mobil Jepang:  ['toyota', 'honda', 'daihatsu']\n",
      "Mobil Eropa:  ['BMW', 'ferrari']\n"
     ]
    }
   ],
   "source": [
    "mobil = ['toyota', 'honda', 'BMW', 'daihatsu', 'ferrari']\n",
    "mobil_jepang = mobil[0:2]\n",
    "mobil_jepang.append(mobil[3])\n",
    "mobil_eropa = []\n",
    "mobil_eropa.append(mobil[2])\n",
    "mobil_eropa.append(mobil[4])\n",
    "print(\"Mobil Jepang: \", mobil_jepang)\n",
    "print(\"Mobil Eropa: \", mobil_eropa)"
   ]
  },
  {
   "cell_type": "markdown",
   "metadata": {},
   "source": [
    "### Multidimensional List"
   ]
  },
  {
   "cell_type": "code",
   "execution_count": 19,
   "metadata": {},
   "outputs": [
    {
     "name": "stdout",
     "output_type": "stream",
     "text": [
      "['toyota', 'honda', 'daihatsu']\n",
      "toyota\n",
      "['toyota', 'honda']\n"
     ]
    }
   ],
   "source": [
    "mobil = [['toyota', 'honda', 'daihatsu'], ['BMW', 'ferrari']] # list dgn indeks ke 0 dan list dgn indeks ke 1\n",
    "print(mobil[0])\n",
    "print(mobil[0][0])\n",
    "print(mobil[0][:2])"
   ]
  },
  {
   "cell_type": "code",
   "execution_count": 20,
   "metadata": {},
   "outputs": [
    {
     "name": "stdout",
     "output_type": "stream",
     "text": [
      "[['toyota', 'honda', 'daihatsu', 'suzuki'], ['BMW', 'ferrari', 'jaguar']]\n"
     ]
    }
   ],
   "source": [
    "mobil = [['toyota', 'honda', 'daihatsu'], ['BMW', 'ferrari']]\n",
    "mobil[0].append('suzuki')\n",
    "mobil[1].append('jaguar')\n",
    "print(mobil)"
   ]
  },
  {
   "cell_type": "code",
   "execution_count": 21,
   "metadata": {
    "scrolled": true
   },
   "outputs": [
    {
     "name": "stdout",
     "output_type": "stream",
     "text": [
      "List yang terhapus:  ['BMW', 'ferrari']\n",
      "List sekarang:  [['toyota', 'honda', 'daihatsu']]\n"
     ]
    }
   ],
   "source": [
    "mobil = [['toyota', 'honda', 'daihatsu'], ['BMW', 'ferrari']]\n",
    "pop_mobil = mobil.pop()                 # menghapus elemen list indeks ke 1\n",
    "print(\"List yang terhapus: \", pop_mobil)\n",
    "print(\"List sekarang: \", mobil)"
   ]
  },
  {
   "cell_type": "code",
   "execution_count": 23,
   "metadata": {},
   "outputs": [
    {
     "name": "stdout",
     "output_type": "stream",
     "text": [
      "[['honda', 'daihatsu'], ['BMW', 'ferrari']]\n"
     ]
    }
   ],
   "source": [
    "mobil = [['toyota', 'honda', 'daihatsu'], ['BMW', 'ferrari']]\n",
    "mobil[0].pop(0)                # menghapus elemen 0 dari list indeks ke 0\n",
    "print(mobil)"
   ]
  },
  {
   "cell_type": "code",
   "execution_count": 27,
   "metadata": {},
   "outputs": [
    {
     "name": "stdout",
     "output_type": "stream",
     "text": [
      "toyota\n",
      "honda\n",
      "daihatsu\n",
      "BMW\n",
      "ferrari\n"
     ]
    }
   ],
   "source": [
    "mobil = [['toyota', 'honda', 'daihatsu'], ['BMW', 'ferrari']]\n",
    "\n",
    "for i in range(0, len(mobil)):\n",
    "    for j in mobil[i]:\n",
    "     print(j)"
   ]
  },
  {
   "cell_type": "markdown",
   "metadata": {},
   "source": [
    "### Tuples"
   ]
  },
  {
   "cell_type": "markdown",
   "metadata": {},
   "source": [
    "Tuple dpt disebut juga **Immutable List** (tidak dpt memodifikasi nilai elemen-elemen nya)"
   ]
  },
  {
   "cell_type": "code",
   "execution_count": 25,
   "metadata": {},
   "outputs": [
    {
     "name": "stdout",
     "output_type": "stream",
     "text": [
      "m =  1920\n",
      "n =  1080\n"
     ]
    }
   ],
   "source": [
    "ukuran_matriks = (1920, 1080) # m x n\n",
    "print(\"m = \", ukuran_matriks[0])\n",
    "print(\"n = \", ukuran_matriks[1])"
   ]
  },
  {
   "cell_type": "code",
   "execution_count": 28,
   "metadata": {
    "scrolled": true
   },
   "outputs": [
    {
     "ename": "TypeError",
     "evalue": "'tuple' object does not support item assignment",
     "output_type": "error",
     "traceback": [
      "\u001b[1;31m---------------------------------------------------------------------------\u001b[0m",
      "\u001b[1;31mTypeError\u001b[0m                                 Traceback (most recent call last)",
      "\u001b[1;32m<ipython-input-28-0adf9d68229b>\u001b[0m in \u001b[0;36m<module>\u001b[1;34m\u001b[0m\n\u001b[0;32m      1\u001b[0m \u001b[0mukuran_matriks\u001b[0m \u001b[1;33m=\u001b[0m \u001b[1;33m(\u001b[0m\u001b[1;36m1920\u001b[0m\u001b[1;33m,\u001b[0m \u001b[1;36m1080\u001b[0m\u001b[1;33m)\u001b[0m\u001b[1;33m\u001b[0m\u001b[1;33m\u001b[0m\u001b[0m\n\u001b[1;32m----> 2\u001b[1;33m \u001b[0mukuran_matriks\u001b[0m\u001b[1;33m[\u001b[0m\u001b[1;36m0\u001b[0m\u001b[1;33m]\u001b[0m \u001b[1;33m=\u001b[0m \u001b[1;36m1000\u001b[0m \u001b[1;31m# modifikasi nilai m menjadi 1000\u001b[0m\u001b[1;33m\u001b[0m\u001b[1;33m\u001b[0m\u001b[0m\n\u001b[0m\u001b[0;32m      3\u001b[0m \u001b[0mprint\u001b[0m\u001b[1;33m(\u001b[0m\u001b[1;34m\"m = \"\u001b[0m\u001b[1;33m,\u001b[0m \u001b[0mukuran_matriks\u001b[0m\u001b[1;33m[\u001b[0m\u001b[1;36m0\u001b[0m\u001b[1;33m]\u001b[0m\u001b[1;33m)\u001b[0m\u001b[1;33m\u001b[0m\u001b[1;33m\u001b[0m\u001b[0m\n\u001b[0;32m      4\u001b[0m \u001b[0mprint\u001b[0m\u001b[1;33m(\u001b[0m\u001b[1;34m\"n = \"\u001b[0m\u001b[1;33m,\u001b[0m \u001b[0mukuran_matriks\u001b[0m\u001b[1;33m[\u001b[0m\u001b[1;36m1\u001b[0m\u001b[1;33m]\u001b[0m\u001b[1;33m)\u001b[0m\u001b[1;33m\u001b[0m\u001b[1;33m\u001b[0m\u001b[0m\n",
      "\u001b[1;31mTypeError\u001b[0m: 'tuple' object does not support item assignment"
     ]
    }
   ],
   "source": [
    "ukuran_matriks = (1920, 1080)\n",
    "ukuran_matriks[0] = 1000 # modifikasi nilai m menjadi 1000\n",
    "print(\"m = \", ukuran_matriks[0])\n",
    "print(\"n = \", ukuran_matriks[1])"
   ]
  },
  {
   "cell_type": "code",
   "execution_count": 29,
   "metadata": {},
   "outputs": [
    {
     "name": "stdout",
     "output_type": "stream",
     "text": [
      "(1000, 1080)\n"
     ]
    }
   ],
   "source": [
    "ukuran_matriks = (1920, 1080)\n",
    "ukuran_matriks = (1000, 1080) # menuliskan nilai baru ke tuple yg kita buat\n",
    "print(ukuran_matriks)"
   ]
  }
 ],
 "metadata": {
  "kernelspec": {
   "display_name": "Python 3",
   "language": "python",
   "name": "python3"
  },
  "language_info": {
   "codemirror_mode": {
    "name": "ipython",
    "version": 3
   },
   "file_extension": ".py",
   "mimetype": "text/x-python",
   "name": "python",
   "nbconvert_exporter": "python",
   "pygments_lexer": "ipython3",
   "version": "3.7.3"
  }
 },
 "nbformat": 4,
 "nbformat_minor": 2
}
