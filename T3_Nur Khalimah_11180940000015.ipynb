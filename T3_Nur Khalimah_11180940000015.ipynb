{
 "cells": [
  {
   "cell_type": "markdown",
   "metadata": {},
   "source": [
    "### Nama : Nur Khalimah\n",
    "### NIM__: 11180940000015"
   ]
  },
  {
   "cell_type": "markdown",
   "metadata": {},
   "source": [
    "### Tugas 3"
   ]
  },
  {
   "cell_type": "markdown",
   "metadata": {},
   "source": [
    "#### 5-6. Stage of Life"
   ]
  },
  {
   "cell_type": "code",
   "execution_count": 1,
   "metadata": {},
   "outputs": [
    {
     "name": "stdout",
     "output_type": "stream",
     "text": [
      "\"you are an adult\"\n"
     ]
    }
   ],
   "source": [
    "person_age = 20\n",
    "\n",
    "if person_age < 2:\n",
    "    print('\"you are a baby\"')\n",
    "elif person_age >=2 and person_age < 4:\n",
    "    print('\"you are a toddler\"')\n",
    "elif person_age >=4 and person_age < 13:\n",
    "    print('\"you are a kid\"')\n",
    "elif person_age >=13 and person_age < 20:\n",
    "    print('\"you are a teenager\"')\n",
    "elif person_age >=20 and person_age < 65:\n",
    "    print('\"you are an adult\"')\n",
    "else:\n",
    "    print('\"you are an elder\"')"
   ]
  },
  {
   "cell_type": "markdown",
   "metadata": {},
   "source": [
    "#### 5-10. Checking Usernames"
   ]
  },
  {
   "cell_type": "code",
   "execution_count": 2,
   "metadata": {},
   "outputs": [
    {
     "name": "stdout",
     "output_type": "stream",
     "text": [
      "'KHAL' has already been used, you will need to enter a new username!\n",
      "'kakak' has not been used, the username is available.\n",
      "'mba' has not been used, the username is available.\n",
      "'Teteh' has already been used, you will need to enter a new username!\n",
      "'yayu' has not been used, the username is available.\n"
     ]
    }
   ],
   "source": [
    "current_users = ['khal', 'mah', 'lim', 'teteh', 'mas']\n",
    "new_users = ['KHAL', 'kakak', 'mba','Teteh', 'yayu']\n",
    "\n",
    "current_users_lower = [users.lower() for users in current_users]\n",
    "\n",
    "for users in new_users:\n",
    "    if users.lower() in current_users_lower:\n",
    "        print(\"'\" + users + \"'\" + ' has already been used, you will need to enter a new username!')\n",
    "    else:\n",
    "        print(\"'\" + users + \"'\" + ' has not been used, the username is available.')"
   ]
  }
 ],
 "metadata": {
  "kernelspec": {
   "display_name": "Python 3",
   "language": "python",
   "name": "python3"
  },
  "language_info": {
   "codemirror_mode": {
    "name": "ipython",
    "version": 3
   },
   "file_extension": ".py",
   "mimetype": "text/x-python",
   "name": "python",
   "nbconvert_exporter": "python",
   "pygments_lexer": "ipython3",
   "version": "3.7.3"
  }
 },
 "nbformat": 4,
 "nbformat_minor": 2
}
