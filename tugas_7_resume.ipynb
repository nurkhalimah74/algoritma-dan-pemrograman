{
 "cells": [
  {
   "cell_type": "markdown",
   "metadata": {},
   "source": [
    "#### Nama : Nur Khalimah\n",
    "#### NIM__: 11180940000015"
   ]
  },
  {
   "cell_type": "markdown",
   "metadata": {},
   "source": [
    "#### Latihan OOP : Membuat Game Sederhana"
   ]
  },
  {
   "cell_type": "markdown",
   "metadata": {},
   "source": [
    "Kita akan membuat sebuah game sederhana, dimana terdapat 2 hiro yang saling serang satu sama lain."
   ]
  },
  {
   "cell_type": "code",
   "execution_count": 1,
   "metadata": {},
   "outputs": [
    {
     "name": "stdout",
     "output_type": "stream",
     "text": [
      "sniper menyerang rikimaru\n",
      "rikimaru diserang sniper\n",
      "serangan terasa: 1.0\n",
      "darah rikimaru tersisa 99.0\n",
      "\n",
      "\n",
      "rikimaru menyerang sniper\n",
      "sniper diserang rikimaru\n",
      "serangan terasa: 4.0\n",
      "darah sniper tersisa 96.0\n",
      "\n",
      "\n",
      "rikimaru menyerang sniper\n",
      "sniper diserang rikimaru\n",
      "serangan terasa: 4.0\n",
      "darah sniper tersisa 92.0\n",
      "\n",
      "\n",
      "rikimaru menyerang sniper\n",
      "sniper diserang rikimaru\n",
      "serangan terasa: 4.0\n",
      "darah sniper tersisa 88.0\n",
      "\n",
      "\n",
      "rikimaru menyerang sniper\n",
      "sniper diserang rikimaru\n",
      "serangan terasa: 4.0\n",
      "darah sniper tersisa 84.0\n",
      "\n",
      "\n",
      "rikimaru menyerang sniper\n",
      "sniper diserang rikimaru\n",
      "serangan terasa: 4.0\n",
      "darah sniper tersisa 80.0\n"
     ]
    }
   ],
   "source": [
    "# ==== lANGKAH 1 ===\n",
    "\n",
    "class Hero:      #1\n",
    "    \n",
    "    def __init__(self, name, health, attackPower, armorNumber):     #2\n",
    "        self.name = name                                            #3\n",
    "        self.health = health                                        #4\n",
    "        self.attackPower = attackPower                              #5\n",
    "        self.armorNumber = armorNumber                              #6\n",
    "        \n",
    "        \n",
    "# ==== lANGKAH 2 ===\n",
    "        \n",
    "    def serang(self, lawan):                               #1\n",
    "        print(self.name + ' menyerang ' + lawan.name)      #2\n",
    "        lawan.diserang(self, self.attackPower)             #3\n",
    "          \n",
    "    def diserang(self, lawan, attackPower_lawan):                     #4\n",
    "        print(self.name + ' diserang ' + lawan.name)                  #5\n",
    "        attack_diterima = attackPower_lawan/self.armorNumber          #6\n",
    "        print(\"serangan terasa: \" + str(attack_diterima))             #7\n",
    "        self.health -= attack_diterima                                #8\n",
    "        print(\"darah \" + self.name + \" tersisa \" + str(self.health))  #9\n",
    "\n",
    "sniper = Hero('sniper',100,10,5)         #10\n",
    "rikimaru = Hero('rikimaru',100,20,10)    #11\n",
    "\n",
    "\n",
    "# ==== lANGKAH 3 ===\n",
    "\n",
    "sniper.serang(rikimaru)     #1\n",
    "print(\"\\n\")                 #2\n",
    "rikimaru.serang(sniper)     #3\n",
    "print(\"\\n\")                 #4\n",
    "rikimaru.serang(sniper)     #5\n",
    "print(\"\\n\")                 #6\n",
    "rikimaru.serang(sniper)     #7\n",
    "print(\"\\n\")                 #8\n",
    "rikimaru.serang(sniper)     #9\n",
    "print(\"\\n\")                 #10\n",
    "rikimaru.serang(sniper)     #11"
   ]
  },
  {
   "cell_type": "markdown",
   "metadata": {},
   "source": [
    "#### PENJELASAN"
   ]
  },
  {
   "cell_type": "markdown",
   "metadata": {},
   "source": [
    "**Langkah 1 :**"
   ]
  },
  {
   "cell_type": "markdown",
   "metadata": {},
   "source": [
    "**#1** adalah langkah awal yaitu pembuatan Class Hero, Class Hero disini adalah sebuah **template.** **#2** adalah jenis variabel yang di deklarasikan di dalam kelas **(instance variabel)** dimana terdapat atributnya \" si hero / self \" atributnya atau kepunyaan Hero yaitu name, health, attackPower, dan armorNumber. **#3 s/d #6** adalah lanjutan dari pendeklarasian **#2** dimana mendeklarasikan bahwa self.name (nama hero) adalah name, self.health adalah health, dan seterusnya."
   ]
  },
  {
   "cell_type": "markdown",
   "metadata": {},
   "source": [
    "**Langkah 2 :** "
   ]
  },
  {
   "cell_type": "markdown",
   "metadata": {},
   "source": [
    "Pembuatan methods, **method** adalah sebuah fungsi untuk membuat si \" Hero \" melakukan sesuatu. **#1** adalah method serang, dimana \" self \" adalah hero penyerang dan \" lawan \" adalah hero yang di serang. **#2** adalah perintah print, dimana \" self.name \" adalah nama hero penyerang dan \" lawan.name \" adalah nama hero yang di serang. **#3** berfungsi agar secara otomatis memberi tahu bahwa \" hero lawan diserang oleh hero penyerang \" "
   ]
  },
  {
   "cell_type": "markdown",
   "metadata": {},
   "source": [
    "**#4 dan #5** sama kasus nya dengan **#1 dan #2** perbedaannya **#4 dan #5** adalah method \" diserang \". **#6 dan #8** adalah pembuatan formula attack diterima dan self.health. **#7** adalah perintah print dimana memanggil formula yang ada di **#6 dan #9**. "
   ]
  },
  {
   "cell_type": "markdown",
   "metadata": {},
   "source": [
    "**#10 dan #11** adalah pembuatan variabel 2 hiro sesuai dengan definisi **#2**"
   ]
  },
  {
   "cell_type": "markdown",
   "metadata": {},
   "source": [
    "**Langkah 3:**"
   ]
  },
  {
   "cell_type": "markdown",
   "metadata": {},
   "source": [
    "**#1 dan #3** berfungsi untuk memanggil dan menjalankan methods yang telah kita buat sebelumnya. **#2, #4** adalah perintah print kosong, untuk membuat jarak antara hasil output atas dan hasil output bawah. **#5 s/d #11** adalah copy-an dari **#3 dan #4** untuk membuat self.health semakin berkurang."
   ]
  }
 ],
 "metadata": {
  "kernelspec": {
   "display_name": "Python 3",
   "language": "python",
   "name": "python3"
  },
  "language_info": {
   "codemirror_mode": {
    "name": "ipython",
    "version": 3
   },
   "file_extension": ".py",
   "mimetype": "text/x-python",
   "name": "python",
   "nbconvert_exporter": "python",
   "pygments_lexer": "ipython3",
   "version": "3.7.3"
  }
 },
 "nbformat": 4,
 "nbformat_minor": 2
}
