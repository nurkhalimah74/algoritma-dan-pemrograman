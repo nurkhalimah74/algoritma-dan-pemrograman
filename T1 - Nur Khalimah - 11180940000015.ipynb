{
 "cells": [
  {
   "cell_type": "markdown",
   "metadata": {},
   "source": [
    "### Nama : Nur Khalimah\n",
    "### NIM__: 11180940000015"
   ]
  },
  {
   "cell_type": "markdown",
   "metadata": {},
   "source": [
    "### TUGAS 1"
   ]
  },
  {
   "cell_type": "markdown",
   "metadata": {},
   "source": [
    "#### 2-1. Simple Message"
   ]
  },
  {
   "cell_type": "code",
   "execution_count": 2,
   "metadata": {},
   "outputs": [
    {
     "name": "stdout",
     "output_type": "stream",
     "text": [
      "jangan lupa senyum teman-teman :)\n"
     ]
    }
   ],
   "source": [
    "message = 'jangan lupa senyum teman-teman :)'\n",
    "print (message)"
   ]
  },
  {
   "cell_type": "markdown",
   "metadata": {},
   "source": [
    "#### 2-2. Simple Message"
   ]
  },
  {
   "cell_type": "code",
   "execution_count": 11,
   "metadata": {
    "scrolled": true
   },
   "outputs": [
    {
     "name": "stdout",
     "output_type": "stream",
     "text": [
      "Nur Khalimah is smart :)\n",
      "Nur Khalimah is smart because she is dilligent!\n"
     ]
    }
   ],
   "source": [
    "message = 'Nur Khalimah is smart :)'\n",
    "print (message)\n",
    "\n",
    "message = 'Nur Khalimah is smart because she is dilligent!'\n",
    "print (message)"
   ]
  },
  {
   "cell_type": "markdown",
   "metadata": {},
   "source": [
    "#### 2-3. Personal Message"
   ]
  },
  {
   "cell_type": "code",
   "execution_count": 7,
   "metadata": {},
   "outputs": [
    {
     "name": "stdout",
     "output_type": "stream",
     "text": [
      "\"Halo Khalimah, apakah kamu sudah sholat?\"\n"
     ]
    }
   ],
   "source": [
    "nama = 'Khalimah'\n",
    "message = '\"Halo ' + nama + ', apakah kamu sudah sholat?\"'\n",
    "print (message)"
   ]
  },
  {
   "cell_type": "markdown",
   "metadata": {},
   "source": [
    "#### 2-4. Name Cases"
   ]
  },
  {
   "cell_type": "code",
   "execution_count": 8,
   "metadata": {},
   "outputs": [
    {
     "name": "stdout",
     "output_type": "stream",
     "text": [
      "nur khalimah\n",
      "NUR KHALIMAH\n",
      "Nur Khalimah\n"
     ]
    }
   ],
   "source": [
    "name = 'nur khalimah'\n",
    "print (name.lower())\n",
    "\n",
    "name = 'nur khalimah'\n",
    "print (name.upper())\n",
    "\n",
    "name = 'nur khalimah'\n",
    "print (name.title())"
   ]
  },
  {
   "cell_type": "markdown",
   "metadata": {},
   "source": [
    "#### 2-5. Famous Quote"
   ]
  },
  {
   "cell_type": "code",
   "execution_count": 9,
   "metadata": {
    "scrolled": true
   },
   "outputs": [
    {
     "name": "stdout",
     "output_type": "stream",
     "text": [
      "Alwi Abdul Jalil Habibie pernah berkata, \"Jadilah seperti air yang mengalir, kalau kamu baik maka sekelilingmu akan baik, kalau kamu kotor maka sekelilingmu akan kotor.\"\n"
     ]
    }
   ],
   "source": [
    "kutipan = 'Alwi Abdul Jalil Habibie pernah berkata, \"Jadilah seperti air yang mengalir, kalau kamu baik maka sekelilingmu akan baik, kalau kamu kotor maka sekelilingmu akan kotor.\"'\n",
    "print (kutipan)"
   ]
  },
  {
   "cell_type": "markdown",
   "metadata": {},
   "source": [
    "#### 2-6. Famous Quote 2"
   ]
  },
  {
   "cell_type": "code",
   "execution_count": 10,
   "metadata": {},
   "outputs": [
    {
     "name": "stdout",
     "output_type": "stream",
     "text": [
      "Alwi Abdul Jalil Habibie pernah berkata, \"Jadilah seperti air yang mengalir, kalau kamu baik maka sekelilingmu akan baik, kalau kamu kotor maka sekelilingmu akan kotor.\"\n"
     ]
    }
   ],
   "source": [
    "famous_person = 'Alwi Abdul Jalil Habibie'\n",
    "kutipan = '\"Jadilah seperti air yang mengalir, kalau kamu baik maka sekelilingmu akan baik, kalau kamu kotor maka sekelilingmu akan kotor.\"'\n",
    "print (famous_person + ' pernah berkata, ' + kutipan)"
   ]
  },
  {
   "cell_type": "markdown",
   "metadata": {},
   "source": [
    "#### 2-8. Number Eight"
   ]
  },
  {
   "cell_type": "code",
   "execution_count": 12,
   "metadata": {},
   "outputs": [
    {
     "name": "stdout",
     "output_type": "stream",
     "text": [
      "8\n",
      "8\n",
      "8\n",
      "8.0\n"
     ]
    }
   ],
   "source": [
    "print (5+3)\n",
    "print (20-12)\n",
    "print (1*8)\n",
    "print (64/8)"
   ]
  },
  {
   "cell_type": "markdown",
   "metadata": {},
   "source": [
    "#### 2-9. Favourite Number"
   ]
  },
  {
   "cell_type": "code",
   "execution_count": 13,
   "metadata": {},
   "outputs": [
    {
     "name": "stdout",
     "output_type": "stream",
     "text": [
      "angka favorit ku adalah 1 karena ku suka menjadi yang pertama.\n"
     ]
    }
   ],
   "source": [
    "angka_favorit = 1\n",
    "message = 'angka favorit ku adalah ' + str(angka_favorit) + ' karena ku suka menjadi yang pertama.'\n",
    "print (message)"
   ]
  },
  {
   "cell_type": "markdown",
   "metadata": {},
   "source": [
    "#### 2-10. Adding Comments"
   ]
  },
  {
   "cell_type": "code",
   "execution_count": 14,
   "metadata": {},
   "outputs": [
    {
     "name": "stdout",
     "output_type": "stream",
     "text": [
      "Sasilah Wulandari adalah adik lucu-nya Nur Khalimah hehehee\n"
     ]
    }
   ],
   "source": [
    "my_name = 'Nur Khalimah' # variabel untuk nama ku\n",
    "sister_name = 'Sasilah Wulandari' # variabel untuk nama adik ku\n",
    "sentence = sister_name + ' adalah adik lucu-nya ' + my_name + ' hehehee' # untuk memembuat kalimat yang berisi nama ku dan nama adik ku\n",
    "print (sentence) #keluarkan hasil"
   ]
  },
  {
   "cell_type": "markdown",
   "metadata": {},
   "source": [
    "#### 3-1. Names"
   ]
  },
  {
   "cell_type": "code",
   "execution_count": 15,
   "metadata": {},
   "outputs": [
    {
     "name": "stdout",
     "output_type": "stream",
     "text": [
      "Afiq\n",
      "Zulfa\n",
      "Febri\n",
      "Sasthya\n",
      "Nabila\n",
      "Nada\n",
      "Khatya\n"
     ]
    }
   ],
   "source": [
    "names = ['Afiq', 'Zulfa', 'Febri', 'Sasthya', 'Nabila', 'Nada', 'Khatya']\n",
    "\n",
    "print (names[0])\n",
    "print (names[1])\n",
    "print (names[2])\n",
    "print (names[3])\n",
    "print (names[-3])\n",
    "print (names[-2])\n",
    "print (names[6])"
   ]
  },
  {
   "cell_type": "markdown",
   "metadata": {},
   "source": [
    "#### 3-2. Greetings"
   ]
  },
  {
   "cell_type": "code",
   "execution_count": 16,
   "metadata": {},
   "outputs": [
    {
     "name": "stdout",
     "output_type": "stream",
     "text": [
      "\"Afiq, smile donggg! :)\"\n",
      "\"Zulfa, smile donggg! :)\"\n",
      "\"Febri, smile donggg! :)\"\n",
      "\"Sasthya, smile donggg! :)\"\n",
      "\"Nabila, smile donggg! :)\"\n",
      "\"Nada, smile donggg! :)\"\n",
      "\"Khatya, smile donggg! :)\"\n"
     ]
    }
   ],
   "source": [
    "names = ['Afiq', 'Zulfa', 'Febri', 'Sasthya', 'Nabila', 'Nada', 'Khatya']\n",
    "message = (', smile donggg! :)\"')\n",
    "\n",
    "print ('\"' + names[0] + message)\n",
    "print ('\"' + names[1] + message)\n",
    "print ('\"' + names[2] + message)\n",
    "print ('\"' + names[3] + message)\n",
    "print ('\"' + names[-3] + message)\n",
    "print ('\"' + names[-2] + message)\n",
    "print ('\"' + names[6] + message)"
   ]
  },
  {
   "cell_type": "markdown",
   "metadata": {},
   "source": [
    "#### 3-3. Your Own List"
   ]
  },
  {
   "cell_type": "code",
   "execution_count": 17,
   "metadata": {},
   "outputs": [
    {
     "name": "stdout",
     "output_type": "stream",
     "text": [
      "\"NAS-330 Puma, akan membawa saya untuk melihat awan, dengan jarak yg sangat dekat.\"\n"
     ]
    }
   ],
   "source": [
    "helikopter_buatan_Indonesia = ['NBO-105', 'NBK-117', 'NBELL-412', 'NAS-330 Puma']\n",
    "print ('\"' + helikopter_buatan_Indonesia[-1] + ', akan membawa saya untuk melihat awan, dengan jarak yg sangat dekat.\"' )"
   ]
  },
  {
   "cell_type": "markdown",
   "metadata": {},
   "source": [
    "#### 3-4. Guest List"
   ]
  },
  {
   "cell_type": "code",
   "execution_count": 18,
   "metadata": {},
   "outputs": [
    {
     "name": "stdout",
     "output_type": "stream",
     "text": [
      "\"Haiii Rapunzel, aku mengundang mu untuk makan malam bersama!\"\n",
      "\"Haiii Belle, aku mengundang mu untuk makan malam bersama!\"\n",
      "\"Haiii Ariel, aku mengundang mu untuk makan malam bersama!\"\n"
     ]
    }
   ],
   "source": [
    "Guest = ['Rapunzel', 'Belle', 'Ariel']\n",
    "print ('\"Haiii ' + Guest[0] + ', aku mengundang mu untuk makan malam bersama!\"')\n",
    "print ('\"Haiii ' + Guest[1] + ', aku mengundang mu untuk makan malam bersama!\"')\n",
    "print ('\"Haiii ' + Guest[2] + ', aku mengundang mu untuk makan malam bersama!\"')"
   ]
  },
  {
   "cell_type": "markdown",
   "metadata": {},
   "source": [
    "#### 3-5. Changing Guest List"
   ]
  },
  {
   "cell_type": "code",
   "execution_count": 19,
   "metadata": {},
   "outputs": [
    {
     "name": "stdout",
     "output_type": "stream",
     "text": [
      "\"Ariel, tidak bisa datang :( \"\n",
      "\n",
      "['Rapunzel', 'Belle']\n",
      "Ariel\n",
      "['Rapunzel', 'Belle', 'Aurora']\n",
      "\n",
      "\"Haiii Rapunzel, aku mengundang mu untuk makan malam bersama!\"\n",
      "\"Haiii Belle, aku mengundang mu untuk makan malam bersama!\"\n",
      "\"Haiii Aurora, aku mengundang mu untuk makan malam bersama!\"\n"
     ]
    }
   ],
   "source": [
    "Guest = ['Rapunzel', 'Belle', 'Ariel']\n",
    "tidak_bisa_datang = 'Ariel'\n",
    "print ('\"' + tidak_bisa_datang + ', tidak bisa datang :( \"')\n",
    "print ('')\n",
    "\n",
    "pop_Guest = Guest.pop()\n",
    "print (Guest)\n",
    "print(pop_Guest)\n",
    "\n",
    "Guest.append('Aurora')\n",
    "print (Guest)\n",
    "print ('')\n",
    "\n",
    "print ('\"Haiii ' + Guest[0] + ', aku mengundang mu untuk makan malam bersama!\"')\n",
    "print ('\"Haiii ' + Guest[1] + ', aku mengundang mu untuk makan malam bersama!\"')\n",
    "print ('\"Haiii ' + Guest[2] + ', aku mengundang mu untuk makan malam bersama!\"')"
   ]
  },
  {
   "cell_type": "markdown",
   "metadata": {},
   "source": [
    "#### 3-6. More Guest"
   ]
  },
  {
   "cell_type": "code",
   "execution_count": 20,
   "metadata": {},
   "outputs": [
    {
     "name": "stdout",
     "output_type": "stream",
     "text": [
      "\"Ariel, tidak bisa datang :( \"\n",
      "\n",
      "['Rapunzel', 'Belle']\n",
      "Ariel\n",
      "['Rapunzel', 'Belle', 'Aurora']\n",
      "\n",
      "\"YEAY! alhamdulillah teman-teman, aku menemukan meja yang lebih besar!\"\n",
      "\n",
      "['Cinderella', 'Rapunzel', 'Mulan', 'Belle', 'Aurora', 'Merida']\n",
      "\n",
      "\"Haiii Cinderella, aku mengundang mu untuk makan malam bersama!\"\n",
      "\"Haiii Rapunzel, aku mengundang mu untuk makan malam bersama!\"\n",
      "\"Haiii Mulan, aku mengundang mu untuk makan malam bersama!\"\n",
      "\"Haiii Belle, aku mengundang mu untuk makan malam bersama!\"\n",
      "\"Haiii Aurora, aku mengundang mu untuk makan malam bersama!\"\n",
      "\"Haiii Merida, aku mengundang mu untuk makan malam bersama!\"\n"
     ]
    }
   ],
   "source": [
    "Guest = ['Rapunzel', 'Belle', 'Ariel']\n",
    "tidak_bisa_datang = 'Ariel'\n",
    "print ('\"' + tidak_bisa_datang + ', tidak bisa datang :( \"')\n",
    "print ('')\n",
    "\n",
    "pop_Guest = Guest.pop()\n",
    "print (Guest)\n",
    "print(pop_Guest)\n",
    "\n",
    "Guest.append('Aurora')\n",
    "print (Guest)\n",
    "print ('')\n",
    "\n",
    "print ('\"YEAY! alhamdulillah teman-teman, aku menemukan meja yang lebih besar!\"')\n",
    "print ('')\n",
    "\n",
    "Guest.insert(0,'Cinderella')\n",
    "Guest.insert(2,'Mulan')\n",
    "Guest.append('Merida')\n",
    "print (Guest)\n",
    "print ('')\n",
    "\n",
    "print ('\"Haiii ' + Guest[0] + ', aku mengundang mu untuk makan malam bersama!\"')\n",
    "print ('\"Haiii ' + Guest[1] + ', aku mengundang mu untuk makan malam bersama!\"')\n",
    "print ('\"Haiii ' + Guest[2] + ', aku mengundang mu untuk makan malam bersama!\"')\n",
    "print ('\"Haiii ' + Guest[-3] + ', aku mengundang mu untuk makan malam bersama!\"')\n",
    "print ('\"Haiii ' + Guest[-2] + ', aku mengundang mu untuk makan malam bersama!\"')\n",
    "print ('\"Haiii ' + Guest[-1] + ', aku mengundang mu untuk makan malam bersama!\"')"
   ]
  },
  {
   "cell_type": "markdown",
   "metadata": {},
   "source": [
    "#### 3-7. Shrinking Guest List"
   ]
  },
  {
   "cell_type": "code",
   "execution_count": 21,
   "metadata": {},
   "outputs": [
    {
     "name": "stdout",
     "output_type": "stream",
     "text": [
      "\"Ariel, tidak bisa datang :( \"\n",
      "\n",
      "['Rapunzel', 'Belle']\n",
      "Ariel\n",
      "['Rapunzel', 'Belle', 'Aurora']\n",
      "\n",
      "\"YEAY! alhamdulillah teman-teman, aku menemukan meja yang lebih besar!\"\n",
      "\n",
      "['Cinderella', 'Rapunzel', 'Mulan', 'Belle', 'Aurora', 'Merida']\n",
      "\n",
      "\"teman-teman, aku hanya bisa mengundang 2 orang saja untuk makan malam :( \"\n",
      "\n",
      "['Cinderella', 'Rapunzel', 'Mulan', 'Belle', 'Aurora']\n",
      "\"Maaf Merida, aku tidak bisa mengundang mu :(\"\n",
      "\n",
      "['Rapunzel', 'Mulan', 'Belle', 'Aurora']\n",
      "\"Maaf Cinderella, aku tidak bisa mengundang mu :(\"\n",
      "\n",
      "['Rapunzel', 'Belle', 'Aurora']\n",
      "\"Maaf Mulan, aku tidak bisa mengundang mu :(\"\n",
      "\n",
      "['Rapunzel', 'Aurora']\n",
      "\"Maaf Belle, aku tidak bisa mengundang mu :(\"\n",
      "\n",
      "['Rapunzel', 'Aurora']\n",
      "\"Haiii Rapunzel, aku tetap mengundang mu untuk makan malam bersama!\"\n",
      "\"Haiii Aurora, aku tetap mengundang mu untuk makan malam bersama!\"\n",
      "\n",
      "[]\n"
     ]
    }
   ],
   "source": [
    "Guest = ['Rapunzel', 'Belle', 'Ariel']\n",
    "tidak_bisa_datang = 'Ariel'\n",
    "print ('\"' + tidak_bisa_datang + ', tidak bisa datang :( \"')\n",
    "print ('')\n",
    "\n",
    "pop_Guest = Guest.pop()\n",
    "print (Guest)\n",
    "print(pop_Guest)\n",
    "\n",
    "Guest.append('Aurora')\n",
    "print (Guest)\n",
    "print ('')\n",
    "\n",
    "print ('\"YEAY! alhamdulillah teman-teman, aku menemukan meja yang lebih besar!\"')\n",
    "print ('')\n",
    "\n",
    "Guest.insert(0,'Cinderella')\n",
    "Guest.insert(2,'Mulan')\n",
    "Guest.append('Merida')\n",
    "print (Guest)\n",
    "print ('')\n",
    "\n",
    "print ('\"teman-teman, aku hanya bisa mengundang 2 orang saja untuk makan malam :( \"')\n",
    "print ('')\n",
    "\n",
    "pop_Guest = Guest.pop()\n",
    "print (Guest)\n",
    "print ('\"Maaf ' + pop_Guest + ', aku tidak bisa mengundang mu :(\"')\n",
    "print ('')\n",
    "\n",
    "pop_Guest = Guest.pop(0)\n",
    "print (Guest)\n",
    "print ('\"Maaf ' + pop_Guest + ', aku tidak bisa mengundang mu :(\"')\n",
    "print ('')\n",
    "\n",
    "pop_Guest = Guest.pop(1)\n",
    "print (Guest)\n",
    "print ('\"Maaf ' + pop_Guest + ', aku tidak bisa mengundang mu :(\"')\n",
    "print ('')\n",
    "\n",
    "pop_Guest = Guest.pop(1)\n",
    "print (Guest)\n",
    "print ('\"Maaf ' + pop_Guest + ', aku tidak bisa mengundang mu :(\"')\n",
    "print ('')\n",
    "\n",
    "print (Guest)\n",
    "print ('\"Haiii ' + Guest[0] + ', aku tetap mengundang mu untuk makan malam bersama!\"')\n",
    "print ('\"Haiii ' + Guest[1] + ', aku tetap mengundang mu untuk makan malam bersama!\"')\n",
    "print ('')\n",
    "\n",
    "del Guest[0]\n",
    "del Guest[0]\n",
    "print (Guest)"
   ]
  },
  {
   "cell_type": "markdown",
   "metadata": {},
   "source": [
    "#### 3-8. Seeing the World"
   ]
  },
  {
   "cell_type": "code",
   "execution_count": 22,
   "metadata": {},
   "outputs": [
    {
     "name": "stdout",
     "output_type": "stream",
     "text": [
      "['Mekkah', 'Paris', 'Hongkong Disneyland Resort', 'Pulau Lombok', 'Jepang']\n",
      "['Hongkong Disneyland Resort', 'Jepang', 'Mekkah', 'Paris', 'Pulau Lombok']\n",
      "\n",
      "['Mekkah', 'Paris', 'Hongkong Disneyland Resort', 'Pulau Lombok', 'Jepang']\n",
      "['Pulau Lombok', 'Paris', 'Mekkah', 'Jepang', 'Hongkong Disneyland Resort']\n",
      "\n",
      "['Mekkah', 'Paris', 'Hongkong Disneyland Resort', 'Pulau Lombok', 'Jepang']\n",
      "['Jepang', 'Pulau Lombok', 'Hongkong Disneyland Resort', 'Paris', 'Mekkah']\n",
      "\n",
      "['Mekkah', 'Paris', 'Hongkong Disneyland Resort', 'Pulau Lombok', 'Jepang']\n",
      "\n",
      "['Hongkong Disneyland Resort', 'Jepang', 'Mekkah', 'Paris', 'Pulau Lombok']\n",
      "\n",
      "['Pulau Lombok', 'Paris', 'Mekkah', 'Jepang', 'Hongkong Disneyland Resort']\n"
     ]
    }
   ],
   "source": [
    "places = ['Mekkah', 'Paris', 'Hongkong Disneyland Resort', 'Pulau Lombok', 'Jepang']\n",
    "print (places)\n",
    "print (sorted(places))\n",
    "print ('')\n",
    "\n",
    "print (places)\n",
    "print (sorted(places,reverse=True))\n",
    "print ('')\n",
    "\n",
    "print (places)\n",
    "places.reverse()\n",
    "print (places)\n",
    "print ('')\n",
    "\n",
    "places.reverse()\n",
    "print (places)\n",
    "print ('')\n",
    "\n",
    "places.sort()\n",
    "print (places)\n",
    "print ('')\n",
    "\n",
    "places.sort(reverse=True)\n",
    "print (places)"
   ]
  },
  {
   "cell_type": "markdown",
   "metadata": {},
   "source": [
    "#### 3-9. Dinner Guests"
   ]
  },
  {
   "cell_type": "code",
   "execution_count": 24,
   "metadata": {},
   "outputs": [
    {
     "name": "stdout",
     "output_type": "stream",
     "text": [
      "\"Ariel, tidak bisa datang :( \"\n",
      "\n",
      "['Rapunzel', 'Belle']\n",
      "Ariel\n",
      "['Rapunzel', 'Belle', 'Aurora']\n",
      "\n",
      "\"YEAY! alhamdulillah teman-teman, aku menemukan meja yang lebih besar!\"\n",
      "\n",
      "['Cinderella', 'Rapunzel', 'Mulan', 'Belle', 'Aurora', 'Merida']\n",
      "\n",
      "\"Haiii Cinderella, aku mengundang mu untuk makan malam bersama!\"\n",
      "\"Haiii Rapunzel, aku mengundang mu untuk makan malam bersama!\"\n",
      "\"Haiii Mulan, aku mengundang mu untuk makan malam bersama!\"\n",
      "\"Haiii Belle, aku mengundang mu untuk makan malam bersama!\"\n",
      "\"Haiii Aurora, aku mengundang mu untuk makan malam bersama!\"\n",
      "\"Haiii Merida, aku mengundang mu untuk makan malam bersama!\"\n",
      "6\n"
     ]
    }
   ],
   "source": [
    "Guest = ['Rapunzel', 'Belle', 'Ariel']\n",
    "tidak_bisa_datang = 'Ariel'\n",
    "print ('\"' + tidak_bisa_datang + ', tidak bisa datang :( \"')\n",
    "print ('')\n",
    "\n",
    "pop_Guest = Guest.pop()\n",
    "print (Guest)\n",
    "print(pop_Guest)\n",
    "\n",
    "Guest.append('Aurora')\n",
    "print (Guest)\n",
    "print ('')\n",
    "\n",
    "print ('\"YEAY! alhamdulillah teman-teman, aku menemukan meja yang lebih besar!\"')\n",
    "print ('')\n",
    "\n",
    "Guest.insert(0,'Cinderella')\n",
    "Guest.insert(2,'Mulan')\n",
    "Guest.append('Merida')\n",
    "print (Guest)\n",
    "print ('')\n",
    "\n",
    "print ('\"Haiii ' + Guest[0] + ', aku mengundang mu untuk makan malam bersama!\"')\n",
    "print ('\"Haiii ' + Guest[1] + ', aku mengundang mu untuk makan malam bersama!\"')\n",
    "print ('\"Haiii ' + Guest[2] + ', aku mengundang mu untuk makan malam bersama!\"')\n",
    "print ('\"Haiii ' + Guest[-3] + ', aku mengundang mu untuk makan malam bersama!\"')\n",
    "print ('\"Haiii ' + Guest[-2] + ', aku mengundang mu untuk makan malam bersama!\"')\n",
    "print ('\"Haiii ' + Guest[-1] + ', aku mengundang mu untuk makan malam bersama!\"')\n",
    "\n",
    "print (len(Guest))"
   ]
  },
  {
   "cell_type": "markdown",
   "metadata": {},
   "source": [
    "#### 3-10. Every Function"
   ]
  },
  {
   "cell_type": "code",
   "execution_count": 27,
   "metadata": {},
   "outputs": [
    {
     "name": "stdout",
     "output_type": "stream",
     "text": [
      "['vanilla ice cream cone', 'disney', 'books', 'closed friend', 'al-quran']\n",
      "\"anything about disney can make me forget the time.\"\n",
      "people say, \"BOOKS are window of the world.\"\n",
      "\n",
      "['mom', 'disney', 'pink and black', 'books', 'closed friend', 'al-quran']\n",
      "['mom', 'disney', 'books', 'closed friend', 'al-quran']\n",
      "\n",
      "['mom', 'disney', 'closed friend', 'books', 'al-quran']\n",
      "['al-quran', 'books', 'closed friend', 'disney', 'mom']\n",
      "5\n"
     ]
    }
   ],
   "source": [
    "important = ['vanilla ice cream cone', 'disney', 'books', 'closed friend', 'al-quran']\n",
    "print (important)\n",
    "print ('\"anything about ' + important[1] + ' can make me forget the time.\"' )\n",
    "print ('people say, \"' + important[2].upper() + ' are window of the world.\"')\n",
    "print ('')\n",
    "\n",
    "important[0] = 'mom'\n",
    "important.insert(2,'pink and black')\n",
    "print (important)\n",
    "not_really_important = 'pink and black'\n",
    "important.remove(not_really_important)\n",
    "print(important)\n",
    "print ('')\n",
    "print (sorted(important,reverse=True))\n",
    "important.sort()\n",
    "print (important)\n",
    "print (len(important))"
   ]
  }
 ],
 "metadata": {
  "kernelspec": {
   "display_name": "Python 3",
   "language": "python",
   "name": "python3"
  },
  "language_info": {
   "codemirror_mode": {
    "name": "ipython",
    "version": 3
   },
   "file_extension": ".py",
   "mimetype": "text/x-python",
   "name": "python",
   "nbconvert_exporter": "python",
   "pygments_lexer": "ipython3",
   "version": "3.7.3"
  }
 },
 "nbformat": 4,
 "nbformat_minor": 2
}
