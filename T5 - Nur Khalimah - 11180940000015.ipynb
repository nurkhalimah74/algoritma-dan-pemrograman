{
 "cells": [
  {
   "cell_type": "markdown",
   "metadata": {},
   "source": [
    "### Nama : Nur Khalimah\n",
    "### NIM__: 11180940000015"
   ]
  },
  {
   "cell_type": "markdown",
   "metadata": {},
   "source": [
    "### Tugas 5"
   ]
  },
  {
   "cell_type": "markdown",
   "metadata": {},
   "source": [
    "#### 7-8. Deli"
   ]
  },
  {
   "cell_type": "code",
   "execution_count": 1,
   "metadata": {},
   "outputs": [
    {
     "name": "stdout",
     "output_type": "stream",
     "text": [
      "I made your  tuna sandwich\n",
      "I made your  lobster sandwich\n",
      "I made your  egg sandwich\n",
      "I made your  steak sandwich\n",
      "\n",
      "Your tuna sandwich is ready to be served\n",
      "Your lobster sandwich is ready to be served\n",
      "Your egg sandwich is ready to be served\n",
      "Your steak sandwich is ready to be served\n"
     ]
    }
   ],
   "source": [
    "sandwich_orders = ['tuna sandwich', 'lobster sandwich', 'egg sandwich', 'steak sandwich']\n",
    "finished_sandwich = []\n",
    "\n",
    "for i in sandwich_orders:\n",
    "    print ('I made your ', i)\n",
    "print ('')\n",
    "\n",
    "finished_sandwich = sandwich_orders\n",
    "\n",
    "for j in finished_sandwich:\n",
    "    print ('Your ' + j + ' is ready to be served')"
   ]
  },
  {
   "cell_type": "markdown",
   "metadata": {},
   "source": [
    "#### 7-9. No Pastrami"
   ]
  },
  {
   "cell_type": "code",
   "execution_count": 2,
   "metadata": {},
   "outputs": [
    {
     "name": "stdout",
     "output_type": "stream",
     "text": [
      "The Deli has run out of Pastrami\n",
      "\n",
      "I made your tuna sandwich\n",
      "I made your lobster sandwich\n",
      "I made your egg sandwich\n",
      "I made your steak sandwich\n",
      "\n",
      "Your tuna sandwich is ready to be served\n",
      "Your lobster sandwich is ready to be served\n",
      "Your egg sandwich is ready to be served\n",
      "Your steak sandwich is ready to be served\n"
     ]
    }
   ],
   "source": [
    "sandwich_orders = ['tuna sandwich', 'pastrami sandwich', 'pastrami sandwich', 'lobster sandwich',  'egg sandwich', 'pastrami sandwich', 'steak sandwich']\n",
    "finished_sandwich = []\n",
    "print('The Deli has run out of Pastrami')\n",
    "print('')\n",
    "\n",
    "sandwich_orders.remove('pastrami sandwich')\n",
    "sandwich_orders.remove('pastrami sandwich')\n",
    "sandwich_orders.remove('pastrami sandwich')\n",
    "\n",
    "for i in sandwich_orders:\n",
    "    print ('I made your ' + i)\n",
    "print ('')\n",
    "\n",
    "finished_sandwich = sandwich_orders\n",
    "\n",
    "for j in finished_sandwich:\n",
    "    print ('Your ' + j + ' is ready to be served')"
   ]
  },
  {
   "cell_type": "markdown",
   "metadata": {},
   "source": [
    "#### a numerical approximation of 1/pi"
   ]
  },
  {
   "cell_type": "code",
   "execution_count": 1,
   "metadata": {},
   "outputs": [
    {
     "name": "stdout",
     "output_type": "stream",
     "text": [
      "Finished at iteration number 3\n",
      "Estimate_pi:   3.141592653589793\n",
      "\n",
      "Pi di Python:  3.141592653589793\n"
     ]
    }
   ],
   "source": [
    "import math\n",
    "\n",
    "def factorial(n):\n",
    "    if n == 0:\n",
    "        return 1\n",
    "    else:\n",
    "        recurse = factorial(n-1)\n",
    "        result = n * recurse\n",
    "        return result\n",
    "\n",
    "def estimate_pi():\n",
    "    total = 0\n",
    "    k = 0\n",
    "    factor = 2 * math.sqrt(2) / 9801\n",
    "    keep_going = True   \n",
    "    while keep_going == True:\n",
    "        numerator = float(factorial(4*k) * (1103 + 26390 * k))\n",
    "        denominator = float(factorial(k)**4) * 396**(4*k)\n",
    "        term = factor * float(numerator/denominator)\n",
    "        total += term\n",
    "        k += 1  \n",
    "        if term < 1e-15:\n",
    "            keep_going == False\n",
    "            print (\"Finished at iteration number\", k)\n",
    "            break\n",
    "    return 1 / total\n",
    "\n",
    "print ('Estimate_pi:  ', estimate_pi())\n",
    "print()\n",
    "print (\"Pi di Python: \", math.pi)"
   ]
  }
 ],
 "metadata": {
  "kernelspec": {
   "display_name": "Python 3",
   "language": "python",
   "name": "python3"
  },
  "language_info": {
   "codemirror_mode": {
    "name": "ipython",
    "version": 3
   },
   "file_extension": ".py",
   "mimetype": "text/x-python",
   "name": "python",
   "nbconvert_exporter": "python",
   "pygments_lexer": "ipython3",
   "version": "3.7.3"
  }
 },
 "nbformat": 4,
 "nbformat_minor": 2
}
